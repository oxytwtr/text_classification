{
  "cells": [
    {
      "attachments": {},
      "cell_type": "markdown",
      "id": "82f53315",
      "metadata": {
        "id": "82f53315",
        "toc": true
      },
      "source": [
        "<h1>Table of Contents<span class=\"tocSkip\"></span></h1>\n",
        "<div class=\"toc\"><ul class=\"toc-item\"></ul></div>"
      ]
    },
    {
      "attachments": {},
      "cell_type": "markdown",
      "id": "ZAAXlcRCYUby",
      "metadata": {
        "id": "ZAAXlcRCYUby"
      },
      "source": [
        "Расширенное исследование задачи классификации тональности текста с использованием предобученных моделей NLP\n",
        "\n",
        "1. проверка использования в качестве признаков не только целого комментария но и отдельных предложений из комментария (работа sentence tokenizer NLTK)\n",
        "\n",
        "2. отработка работы BERT, использование различных слоев BERT в качестве признаков, и комбинаций этих слоев\n",
        "\n",
        "  - В первом исследовании построена простая сеть с использованием API Keras над Tensorflow, здесь применяется PyTorch: создание модели со встроенным трансформером BERT и собственным классификатором из полносвязных слоев.\n",
        "  - Работа со слоями BERT моделей:  получение состояний предпоследнего  слоя трансформера BERT,  вообще работа c тензорами их выводов и использование полученных  данных в качестве входных векторов в самостоятельно добавленных полносвязных слоях, все в рамках одной созданной модели\n",
        "\n",
        "  - Хотя в среднем лучшие результаты согласно исследованиям авторов BERT дает контактенация состояний последних четырех слоев в единый вектор, здесь применена именно раздельная классификация через сеть с последним слоем размерностью 3 (кол-во классов) этих четырех наборов, которые я описал выше, нормализация их выходов в диапазоне 0-1 и усреднение.\n",
        "  - Таким образом нивелируются встраивания контекстной информации полученной в последних слоях трансформера, для того чтобы меньше зависеть от контекста именно этого датасета.\n",
        "  - Далее сеть обучена на тренировочной выборке (разделение трейн/вал/тест примерно 81/9/10 %) проверена на валидационной и заново обучена на тренировочной + валидационной выборке (90% от исходных данных)\n",
        "  - Модель сохраняется на диск, загружается и предсказывает классы из тестовой выборки. F1 macro на тестовой выборке от 0,92 до 0,98 в зависимости от распределения данных в тесте. \n",
        "  - Эти результаты могут быть использованы как входные данные для задачи исследования ошибок модели, для улучшения ее предсказаний путем дополнительной предобработки данных\n",
        "\n",
        "Сейчас в задаче предусмотрена только единственная предобработка: исправление вот таких комбинаций ['сЛОВО' | 'cЛОВо' | 'СЛОво' | 'СЛОВО' (not 'Слово')] -> 'слово' c использованием регулярных выражений\n",
        "  - в качестве выходных данных модели использованы 4 набора выходов, полученных после  независимого прохождения через слои - классификаторы следующих тензоров\n",
        "     1) эмбеддинг токена классификатора из последнего слоя трансформера bert\n",
        "     2) усредненное значение  эмбеддингов всех токенов из предпоследнего слоя bert\n",
        "     3) усредненное значение  эмбеддингов всех токенов из последнего слоя bert\n",
        "     4) поэлементная сумма состояний последних четырех слоев bert c итоговым усредненим\n",
        "\n",
        "3. Решение задач распознавания сущностей NER\n",
        "  - использовалась русскоязычная модель DeepPavlov ner_rus_bert_probas, обученная на данных из Википедии\n",
        "  - модель в дополнение к предсказаниям классов добавляет series содержащий строки с размеченными сущностями, если они найдены (теги PER LOC ORG PRODUCT и пр)"
      ]
    },
    {
      "attachments": {},
      "cell_type": "markdown",
      "id": "_Sm7P49m-A2l",
      "metadata": {
        "id": "_Sm7P49m-A2l"
      },
      "source": [
        "### Загрузка библиотек"
      ]
    },
    {
      "cell_type": "code",
      "execution_count": null,
      "id": "6CC_ZDJfdLEs",
      "metadata": {
        "colab": {
          "base_uri": "https://localhost:8080/"
        },
        "id": "6CC_ZDJfdLEs",
        "outputId": "bf3dab89-7593-4985-ddaf-4977bc5c0e27"
      },
      "outputs": [
        {
          "name": "stdout",
          "output_type": "stream",
          "text": [
            "Looking in indexes: https://pypi.org/simple, https://us-python.pkg.dev/colab-wheels/public/simple/\n",
            "Requirement already satisfied: transformers in /usr/local/lib/python3.9/dist-packages (4.24.0)\n",
            "Requirement already satisfied: numpy>=1.17 in /usr/local/lib/python3.9/dist-packages (from transformers) (1.22.4)\n",
            "Requirement already satisfied: requests in /usr/local/lib/python3.9/dist-packages (from transformers) (2.27.1)\n",
            "Requirement already satisfied: huggingface-hub<1.0,>=0.10.0 in /usr/local/lib/python3.9/dist-packages (from transformers) (0.13.3)\n",
            "Requirement already satisfied: filelock in /usr/local/lib/python3.9/dist-packages (from transformers) (3.9.1)\n",
            "Requirement already satisfied: packaging>=20.0 in /usr/local/lib/python3.9/dist-packages (from transformers) (23.0)\n",
            "Requirement already satisfied: tqdm>=4.27 in /usr/local/lib/python3.9/dist-packages (from transformers) (4.64.1)\n",
            "Requirement already satisfied: pyyaml>=5.1 in /usr/local/lib/python3.9/dist-packages (from transformers) (6.0)\n",
            "Requirement already satisfied: regex!=2019.12.17 in /usr/local/lib/python3.9/dist-packages (from transformers) (2022.10.31)\n",
            "Requirement already satisfied: tokenizers!=0.11.3,<0.14,>=0.11.1 in /usr/local/lib/python3.9/dist-packages (from transformers) (0.13.2)\n",
            "Requirement already satisfied: typing-extensions>=3.7.4.3 in /usr/local/lib/python3.9/dist-packages (from huggingface-hub<1.0,>=0.10.0->transformers) (4.5.0)\n",
            "Requirement already satisfied: idna<4,>=2.5 in /usr/local/lib/python3.9/dist-packages (from requests->transformers) (3.4)\n",
            "Requirement already satisfied: certifi>=2017.4.17 in /usr/local/lib/python3.9/dist-packages (from requests->transformers) (2022.12.7)\n",
            "Requirement already satisfied: urllib3<1.27,>=1.21.1 in /usr/local/lib/python3.9/dist-packages (from requests->transformers) (1.26.15)\n",
            "Requirement already satisfied: charset-normalizer~=2.0.0 in /usr/local/lib/python3.9/dist-packages (from requests->transformers) (2.0.12)\n"
          ]
        }
      ],
      "source": [
        "!pip install transformers #==4.24.0"
      ]
    },
    {
      "cell_type": "code",
      "execution_count": null,
      "id": "dcb34ad6",
      "metadata": {
        "colab": {
          "base_uri": "https://localhost:8080/"
        },
        "id": "dcb34ad6",
        "outputId": "ac035832-11a1-460e-8c61-d88c8ec792c1"
      },
      "outputs": [
        {
          "name": "stderr",
          "output_type": "stream",
          "text": [
            "[nltk_data] Downloading package punkt to /root/nltk_data...\n",
            "[nltk_data]   Package punkt is already up-to-date!\n"
          ]
        }
      ],
      "source": [
        "import pandas as pd\n",
        "import numpy as np\n",
        "import requests\n",
        "import urllib\n",
        "import json\n",
        "import re\n",
        "\n",
        "from tqdm  import tqdm \n",
        "\n",
        "import matplotlib.pyplot as plt\n",
        "\n",
        "import nltk\n",
        "from nltk.tokenize import sent_tokenize\n",
        "nltk.download('punkt')\n",
        "\n",
        "from sklearn.preprocessing import LabelEncoder\n",
        "from sklearn.utils.class_weight import compute_class_weight\n",
        "from sklearn.model_selection import train_test_split\n",
        "\n",
        "from sklearn.metrics import f1_score\n",
        "\n",
        "import torch\n",
        "from torch.utils.data import TensorDataset, DataLoader, Dataset\n",
        "from torch import nn, optim\n",
        "\n",
        "from transformers import AutoConfig, AutoTokenizer, AutoModel\n",
        "from transformers import AutoModelForSequenceClassification"
      ]
    },
    {
      "attachments": {},
      "cell_type": "markdown",
      "id": "Q72pPoXj94jA",
      "metadata": {
        "id": "Q72pPoXj94jA"
      },
      "source": [
        "## Глобальные переменные / Функции общего назначения"
      ]
    },
    {
      "cell_type": "code",
      "execution_count": null,
      "id": "bf13f167",
      "metadata": {
        "colab": {
          "base_uri": "https://localhost:8080/"
        },
        "id": "bf13f167",
        "outputId": "fedfcb5c-f2ee-4797-a279-a2bfbe587b18"
      },
      "outputs": [
        {
          "name": "stdout",
          "output_type": "stream",
          "text": [
            "DEVICE SET TO  cuda:0\n"
          ]
        }
      ],
      "source": [
        "RANDOM_STATE = 3141592654\n",
        "\n",
        "DEVICE = torch.device('cuda:0' if torch.cuda.is_available() else 'cpu')\n",
        "print('DEVICE SET TO ', DEVICE)\n",
        "\n",
        "YANDEX_DIR = 'https://disk.yandex.ru/d/u-dNhLqS9_1mFQ'\n",
        "DATA_FILE = 'data.csv'\n",
        "\n",
        "RANDOM_STATE = 3141592654 # int, состояние генератора, 3141592654 by default\n",
        "CV_VALUE = 5              # Количество фолдов для CV, 5 by default\n",
        "\n",
        "SCORER = 'f1_macro'       # str, Тип метрики для анализа\n",
        "AVG_F1 = 'macro'          # str, Тип усреднения для F1\n",
        "METRIC_MAX_LIMIT = 1      # float, Предельное максимальное значение метрики\n",
        "METRIC_MIN_LIMIT = 0.92   # float, Предельное минимальное значение метрики\n",
        "\n",
        "RAW = True                # Bool, Если True - использовать сырые данные"
      ]
    },
    {
      "cell_type": "code",
      "execution_count": null,
      "id": "VWnbpci_82_2",
      "metadata": {
        "id": "VWnbpci_82_2"
      },
      "outputs": [],
      "source": [
        "def get_direct_path_yadisk(folder_url, filename):\n",
        "    '''\n",
        "    makes a direct link (for download) to the file \n",
        "    located in the Yandex disk public link\n",
        "    '''\n",
        "    url = ('https://cloud-api.yandex.net/v1/disk/public/resources/download' +\n",
        "           '?public_key=' + urllib.parse.quote(folder_url) + '&path=/' + \n",
        "           urllib.parse.quote(filename))\n",
        "    r = requests.get(url) \n",
        "    return json.loads(r.text)['href']    "
      ]
    },
    {
      "attachments": {},
      "cell_type": "markdown",
      "id": "aU5_-DYZ-GJS",
      "metadata": {
        "id": "aU5_-DYZ-GJS"
      },
      "source": [
        "### Загрузка и преобразование данных"
      ]
    },
    {
      "cell_type": "code",
      "execution_count": null,
      "id": "dd414e56",
      "metadata": {
        "colab": {
          "base_uri": "https://localhost:8080/"
        },
        "id": "dd414e56",
        "outputId": "9c9b4277-1ef6-40fc-c73f-aedad40be551"
      },
      "outputs": [
        {
          "name": "stdout",
          "output_type": "stream",
          "text": [
            "<class 'pandas.core.frame.DataFrame'>\n",
            "RangeIndex: 1763 entries, 0 to 1762\n",
            "Data columns (total 2 columns):\n",
            " #   Column  Non-Null Count  Dtype \n",
            "---  ------  --------------  ----- \n",
            " 0   text    1763 non-null   object\n",
            " 1   class   1763 non-null   object\n",
            "dtypes: object(2)\n",
            "memory usage: 27.7+ KB\n"
          ]
        }
      ],
      "source": [
        "data = pd.read_csv(get_direct_path_yadisk(YANDEX_DIR, DATA_FILE), sep=';')\n",
        "data.info()"
      ]
    },
    {
      "attachments": {},
      "cell_type": "markdown",
      "id": "nqFaEopm-K9l",
      "metadata": {
        "id": "nqFaEopm-K9l"
      },
      "source": [
        "Преобразование текстовых меток в числовые"
      ]
    },
    {
      "cell_type": "code",
      "execution_count": null,
      "id": "1d8187c0",
      "metadata": {
        "colab": {
          "base_uri": "https://localhost:8080/",
          "height": 507
        },
        "id": "1d8187c0",
        "outputId": "9548a92e-0bb2-4813-cb00-ad224087e945"
      },
      "outputs": [
        {
          "data": {
            "text/html": [
              "\n",
              "  <div id=\"df-fe1cad80-dd08-4260-8a8e-4aec3b694a28\">\n",
              "    <div class=\"colab-df-container\">\n",
              "      <div>\n",
              "<style scoped>\n",
              "    .dataframe tbody tr th:only-of-type {\n",
              "        vertical-align: middle;\n",
              "    }\n",
              "\n",
              "    .dataframe tbody tr th {\n",
              "        vertical-align: top;\n",
              "    }\n",
              "\n",
              "    .dataframe thead th {\n",
              "        text-align: right;\n",
              "    }\n",
              "</style>\n",
              "<table border=\"1\" class=\"dataframe\">\n",
              "  <thead>\n",
              "    <tr style=\"text-align: right;\">\n",
              "      <th></th>\n",
              "      <th>text</th>\n",
              "      <th>class</th>\n",
              "      <th>class_labels</th>\n",
              "    </tr>\n",
              "  </thead>\n",
              "  <tbody>\n",
              "    <tr>\n",
              "      <th>0</th>\n",
              "      <td>Невнимательность к покупателю. Товар выносят п...</td>\n",
              "      <td>Товар</td>\n",
              "      <td>2</td>\n",
              "    </tr>\n",
              "    <tr>\n",
              "      <th>1</th>\n",
              "      <td>Посудомоечная машина не исправна. Остальной то...</td>\n",
              "      <td>Товар</td>\n",
              "      <td>2</td>\n",
              "    </tr>\n",
              "    <tr>\n",
              "      <th>2</th>\n",
              "      <td>Приехал в магазин, оказался только Витринный о...</td>\n",
              "      <td>Товар</td>\n",
              "      <td>2</td>\n",
              "    </tr>\n",
              "    <tr>\n",
              "      <th>3</th>\n",
              "      <td>Несколько раз переносили дату доставки.</td>\n",
              "      <td>Доставка</td>\n",
              "      <td>0</td>\n",
              "    </tr>\n",
              "    <tr>\n",
              "      <th>4</th>\n",
              "      <td>На сайте было написано бесплатная доставка,а п...</td>\n",
              "      <td>Доставка</td>\n",
              "      <td>0</td>\n",
              "    </tr>\n",
              "    <tr>\n",
              "      <th>5</th>\n",
              "      <td>На пункте выдачи нет сотрудника._x000D_\\n</td>\n",
              "      <td>Магазин</td>\n",
              "      <td>1</td>\n",
              "    </tr>\n",
              "    <tr>\n",
              "      <th>6</th>\n",
              "      <td>Продавцы не должны запугивать клиента, чтобы о...</td>\n",
              "      <td>Магазин</td>\n",
              "      <td>1</td>\n",
              "    </tr>\n",
              "    <tr>\n",
              "      <th>7</th>\n",
              "      <td>Ассортимент печальный.</td>\n",
              "      <td>Товар</td>\n",
              "      <td>2</td>\n",
              "    </tr>\n",
              "    <tr>\n",
              "      <th>8</th>\n",
              "      <td>Заказ не доставлен. По телефону сотрудница маг...</td>\n",
              "      <td>Доставка</td>\n",
              "      <td>0</td>\n",
              "    </tr>\n",
              "    <tr>\n",
              "      <th>9</th>\n",
              "      <td>оператор не располагал данной информацией,в ма...</td>\n",
              "      <td>Магазин</td>\n",
              "      <td>1</td>\n",
              "    </tr>\n",
              "  </tbody>\n",
              "</table>\n",
              "</div>\n",
              "      <button class=\"colab-df-convert\" onclick=\"convertToInteractive('df-fe1cad80-dd08-4260-8a8e-4aec3b694a28')\"\n",
              "              title=\"Convert this dataframe to an interactive table.\"\n",
              "              style=\"display:none;\">\n",
              "        \n",
              "  <svg xmlns=\"http://www.w3.org/2000/svg\" height=\"24px\"viewBox=\"0 0 24 24\"\n",
              "       width=\"24px\">\n",
              "    <path d=\"M0 0h24v24H0V0z\" fill=\"none\"/>\n",
              "    <path d=\"M18.56 5.44l.94 2.06.94-2.06 2.06-.94-2.06-.94-.94-2.06-.94 2.06-2.06.94zm-11 1L8.5 8.5l.94-2.06 2.06-.94-2.06-.94L8.5 2.5l-.94 2.06-2.06.94zm10 10l.94 2.06.94-2.06 2.06-.94-2.06-.94-.94-2.06-.94 2.06-2.06.94z\"/><path d=\"M17.41 7.96l-1.37-1.37c-.4-.4-.92-.59-1.43-.59-.52 0-1.04.2-1.43.59L10.3 9.45l-7.72 7.72c-.78.78-.78 2.05 0 2.83L4 21.41c.39.39.9.59 1.41.59.51 0 1.02-.2 1.41-.59l7.78-7.78 2.81-2.81c.8-.78.8-2.07 0-2.86zM5.41 20L4 18.59l7.72-7.72 1.47 1.35L5.41 20z\"/>\n",
              "  </svg>\n",
              "      </button>\n",
              "      \n",
              "  <style>\n",
              "    .colab-df-container {\n",
              "      display:flex;\n",
              "      flex-wrap:wrap;\n",
              "      gap: 12px;\n",
              "    }\n",
              "\n",
              "    .colab-df-convert {\n",
              "      background-color: #E8F0FE;\n",
              "      border: none;\n",
              "      border-radius: 50%;\n",
              "      cursor: pointer;\n",
              "      display: none;\n",
              "      fill: #1967D2;\n",
              "      height: 32px;\n",
              "      padding: 0 0 0 0;\n",
              "      width: 32px;\n",
              "    }\n",
              "\n",
              "    .colab-df-convert:hover {\n",
              "      background-color: #E2EBFA;\n",
              "      box-shadow: 0px 1px 2px rgba(60, 64, 67, 0.3), 0px 1px 3px 1px rgba(60, 64, 67, 0.15);\n",
              "      fill: #174EA6;\n",
              "    }\n",
              "\n",
              "    [theme=dark] .colab-df-convert {\n",
              "      background-color: #3B4455;\n",
              "      fill: #D2E3FC;\n",
              "    }\n",
              "\n",
              "    [theme=dark] .colab-df-convert:hover {\n",
              "      background-color: #434B5C;\n",
              "      box-shadow: 0px 1px 3px 1px rgba(0, 0, 0, 0.15);\n",
              "      filter: drop-shadow(0px 1px 2px rgba(0, 0, 0, 0.3));\n",
              "      fill: #FFFFFF;\n",
              "    }\n",
              "  </style>\n",
              "\n",
              "      <script>\n",
              "        const buttonEl =\n",
              "          document.querySelector('#df-fe1cad80-dd08-4260-8a8e-4aec3b694a28 button.colab-df-convert');\n",
              "        buttonEl.style.display =\n",
              "          google.colab.kernel.accessAllowed ? 'block' : 'none';\n",
              "\n",
              "        async function convertToInteractive(key) {\n",
              "          const element = document.querySelector('#df-fe1cad80-dd08-4260-8a8e-4aec3b694a28');\n",
              "          const dataTable =\n",
              "            await google.colab.kernel.invokeFunction('convertToInteractive',\n",
              "                                                     [key], {});\n",
              "          if (!dataTable) return;\n",
              "\n",
              "          const docLinkHtml = 'Like what you see? Visit the ' +\n",
              "            '<a target=\"_blank\" href=https://colab.research.google.com/notebooks/data_table.ipynb>data table notebook</a>'\n",
              "            + ' to learn more about interactive tables.';\n",
              "          element.innerHTML = '';\n",
              "          dataTable['output_type'] = 'display_data';\n",
              "          await google.colab.output.renderOutput(dataTable, element);\n",
              "          const docLink = document.createElement('div');\n",
              "          docLink.innerHTML = docLinkHtml;\n",
              "          element.appendChild(docLink);\n",
              "        }\n",
              "      </script>\n",
              "    </div>\n",
              "  </div>\n",
              "  "
            ],
            "text/plain": [
              "                                                text     class  class_labels\n",
              "0  Невнимательность к покупателю. Товар выносят п...     Товар             2\n",
              "1  Посудомоечная машина не исправна. Остальной то...     Товар             2\n",
              "2  Приехал в магазин, оказался только Витринный о...     Товар             2\n",
              "3            Несколько раз переносили дату доставки.  Доставка             0\n",
              "4  На сайте было написано бесплатная доставка,а п...  Доставка             0\n",
              "5          На пункте выдачи нет сотрудника._x000D_\\n   Магазин             1\n",
              "6  Продавцы не должны запугивать клиента, чтобы о...   Магазин             1\n",
              "7                            Ассортимент печальный.      Товар             2\n",
              "8  Заказ не доставлен. По телефону сотрудница маг...  Доставка             0\n",
              "9  оператор не располагал данной информацией,в ма...   Магазин             1"
            ]
          },
          "metadata": {},
          "output_type": "display_data"
        },
        {
          "name": "stdout",
          "output_type": "stream",
          "text": [
            "Словарь ключей классов\n"
          ]
        },
        {
          "data": {
            "text/html": [
              "\n",
              "  <div id=\"df-cb898adc-8569-491a-8909-bc8ae769f0e9\">\n",
              "    <div class=\"colab-df-container\">\n",
              "      <div>\n",
              "<style scoped>\n",
              "    .dataframe tbody tr th:only-of-type {\n",
              "        vertical-align: middle;\n",
              "    }\n",
              "\n",
              "    .dataframe tbody tr th {\n",
              "        vertical-align: top;\n",
              "    }\n",
              "\n",
              "    .dataframe thead th {\n",
              "        text-align: right;\n",
              "    }\n",
              "</style>\n",
              "<table border=\"1\" class=\"dataframe\">\n",
              "  <thead>\n",
              "    <tr style=\"text-align: right;\">\n",
              "      <th></th>\n",
              "      <th>0</th>\n",
              "    </tr>\n",
              "  </thead>\n",
              "  <tbody>\n",
              "    <tr>\n",
              "      <th>0</th>\n",
              "      <td>Доставка</td>\n",
              "    </tr>\n",
              "    <tr>\n",
              "      <th>1</th>\n",
              "      <td>Магазин</td>\n",
              "    </tr>\n",
              "    <tr>\n",
              "      <th>2</th>\n",
              "      <td>Товар</td>\n",
              "    </tr>\n",
              "  </tbody>\n",
              "</table>\n",
              "</div>\n",
              "      <button class=\"colab-df-convert\" onclick=\"convertToInteractive('df-cb898adc-8569-491a-8909-bc8ae769f0e9')\"\n",
              "              title=\"Convert this dataframe to an interactive table.\"\n",
              "              style=\"display:none;\">\n",
              "        \n",
              "  <svg xmlns=\"http://www.w3.org/2000/svg\" height=\"24px\"viewBox=\"0 0 24 24\"\n",
              "       width=\"24px\">\n",
              "    <path d=\"M0 0h24v24H0V0z\" fill=\"none\"/>\n",
              "    <path d=\"M18.56 5.44l.94 2.06.94-2.06 2.06-.94-2.06-.94-.94-2.06-.94 2.06-2.06.94zm-11 1L8.5 8.5l.94-2.06 2.06-.94-2.06-.94L8.5 2.5l-.94 2.06-2.06.94zm10 10l.94 2.06.94-2.06 2.06-.94-2.06-.94-.94-2.06-.94 2.06-2.06.94z\"/><path d=\"M17.41 7.96l-1.37-1.37c-.4-.4-.92-.59-1.43-.59-.52 0-1.04.2-1.43.59L10.3 9.45l-7.72 7.72c-.78.78-.78 2.05 0 2.83L4 21.41c.39.39.9.59 1.41.59.51 0 1.02-.2 1.41-.59l7.78-7.78 2.81-2.81c.8-.78.8-2.07 0-2.86zM5.41 20L4 18.59l7.72-7.72 1.47 1.35L5.41 20z\"/>\n",
              "  </svg>\n",
              "      </button>\n",
              "      \n",
              "  <style>\n",
              "    .colab-df-container {\n",
              "      display:flex;\n",
              "      flex-wrap:wrap;\n",
              "      gap: 12px;\n",
              "    }\n",
              "\n",
              "    .colab-df-convert {\n",
              "      background-color: #E8F0FE;\n",
              "      border: none;\n",
              "      border-radius: 50%;\n",
              "      cursor: pointer;\n",
              "      display: none;\n",
              "      fill: #1967D2;\n",
              "      height: 32px;\n",
              "      padding: 0 0 0 0;\n",
              "      width: 32px;\n",
              "    }\n",
              "\n",
              "    .colab-df-convert:hover {\n",
              "      background-color: #E2EBFA;\n",
              "      box-shadow: 0px 1px 2px rgba(60, 64, 67, 0.3), 0px 1px 3px 1px rgba(60, 64, 67, 0.15);\n",
              "      fill: #174EA6;\n",
              "    }\n",
              "\n",
              "    [theme=dark] .colab-df-convert {\n",
              "      background-color: #3B4455;\n",
              "      fill: #D2E3FC;\n",
              "    }\n",
              "\n",
              "    [theme=dark] .colab-df-convert:hover {\n",
              "      background-color: #434B5C;\n",
              "      box-shadow: 0px 1px 3px 1px rgba(0, 0, 0, 0.15);\n",
              "      filter: drop-shadow(0px 1px 2px rgba(0, 0, 0, 0.3));\n",
              "      fill: #FFFFFF;\n",
              "    }\n",
              "  </style>\n",
              "\n",
              "      <script>\n",
              "        const buttonEl =\n",
              "          document.querySelector('#df-cb898adc-8569-491a-8909-bc8ae769f0e9 button.colab-df-convert');\n",
              "        buttonEl.style.display =\n",
              "          google.colab.kernel.accessAllowed ? 'block' : 'none';\n",
              "\n",
              "        async function convertToInteractive(key) {\n",
              "          const element = document.querySelector('#df-cb898adc-8569-491a-8909-bc8ae769f0e9');\n",
              "          const dataTable =\n",
              "            await google.colab.kernel.invokeFunction('convertToInteractive',\n",
              "                                                     [key], {});\n",
              "          if (!dataTable) return;\n",
              "\n",
              "          const docLinkHtml = 'Like what you see? Visit the ' +\n",
              "            '<a target=\"_blank\" href=https://colab.research.google.com/notebooks/data_table.ipynb>data table notebook</a>'\n",
              "            + ' to learn more about interactive tables.';\n",
              "          element.innerHTML = '';\n",
              "          dataTable['output_type'] = 'display_data';\n",
              "          await google.colab.output.renderOutput(dataTable, element);\n",
              "          const docLink = document.createElement('div');\n",
              "          docLink.innerHTML = docLinkHtml;\n",
              "          element.appendChild(docLink);\n",
              "        }\n",
              "      </script>\n",
              "    </div>\n",
              "  </div>\n",
              "  "
            ],
            "text/plain": [
              "          0\n",
              "0  Доставка\n",
              "1   Магазин\n",
              "2     Товар"
            ]
          },
          "metadata": {},
          "output_type": "display_data"
        }
      ],
      "source": [
        "enc_labels = LabelEncoder()\n",
        "data['class_labels'] = enc_labels.fit_transform(data['class'])\n",
        "labels_dict = {\n",
        "    i: list(enc_labels.classes_)[i] for i in range(0, \n",
        "                                                   len(list(\n",
        "                                                       enc_labels.classes_\n",
        "                                                       )))\n",
        "    }\n",
        "\n",
        "display(data.head(10))\n",
        "print('Словарь ключей классов')\n",
        "display(pd.DataFrame(labels_dict.values(), index=labels_dict.keys()))"
      ]
    },
    {
      "cell_type": "code",
      "execution_count": null,
      "id": "F6y4ZXoz-hsX",
      "metadata": {
        "colab": {
          "base_uri": "https://localhost:8080/",
          "height": 493
        },
        "id": "F6y4ZXoz-hsX",
        "outputId": "68bb9031-8afd-49eb-830e-5439f1deda8c"
      },
      "outputs": [
        {
          "data": {
            "image/png": "[encoded data removed]",
            "text/plain": [
              "<Figure size 640x480 with 1 Axes>"
            ]
          },
          "metadata": {},
          "output_type": "display_data"
        }
      ],
      "source": [
        "list_of_word_counts = [\n",
        "    len(str(text_).split()) for text_ in data['text'].to_list()\n",
        "    ]\n",
        "pd.Series(list_of_word_counts).hist(bins = 42)\n",
        "plt.title('Распределение количества токенов\\n\\\n",
        "в текстах из исходного датасета')\n",
        "plt.xlabel('Количество токенов')\n",
        "plt.show()"
      ]
    },
    {
      "attachments": {},
      "cell_type": "markdown",
      "id": "o6UydPra-RRz",
      "metadata": {
        "id": "o6UydPra-RRz"
      },
      "source": [
        "#### Создание датасета с предложениями"
      ]
    },
    {
      "cell_type": "code",
      "execution_count": null,
      "id": "fb55a2de",
      "metadata": {
        "colab": {
          "base_uri": "https://localhost:8080/"
        },
        "id": "fb55a2de",
        "outputId": "44482a4a-a20d-488c-8e76-e8f305ed3529"
      },
      "outputs": [
        {
          "name": "stderr",
          "output_type": "stream",
          "text": [
            "100%|██████████| 1763/1763 [00:03<00:00, 574.31it/s]\n"
          ]
        }
      ],
      "source": [
        "data_connl = pd.DataFrame()\n",
        "\n",
        "for idx_, row in tqdm(data.iterrows(), total=len(data)):\n",
        "    sentenized_text=sent_tokenize(row['text'])\n",
        "    #print(row.keys())\n",
        "    data_connl = pd.concat(\n",
        "        [data_connl,\n",
        "         pd.DataFrame({'sentence': sentenized_text,\n",
        "                       'class': row['class'],\n",
        "                       'class_labels': row['class_labels']})])\n",
        "    \n",
        "data_connl.reset_index(drop=True, inplace=True)   \n",
        "data_connl['token_count'] = data_connl['sentence'].str.count(r'\\b\\w+\\b')\n",
        "data_connl['char_count'] = data_connl['sentence'].str.count(r'.')"
      ]
    },
    {
      "cell_type": "code",
      "execution_count": null,
      "id": "8701e969",
      "metadata": {
        "colab": {
          "base_uri": "https://localhost:8080/",
          "height": 969
        },
        "id": "8701e969",
        "outputId": "ec3e6cb6-47c7-48dc-c9db-282bea067c8a"
      },
      "outputs": [
        {
          "data": {
            "image/png": "[encoded data removed]",
            "text/plain": [
              "<Figure size 640x480 with 1 Axes>"
            ]
          },
          "metadata": {},
          "output_type": "display_data"
        },
        {
          "data": {
            "image/png": "[encoded data removed]",
            "text/plain": [
              "<Figure size 640x480 with 1 Axes>"
            ]
          },
          "metadata": {},
          "output_type": "display_data"
        }
      ],
      "source": [
        "data_connl['char_count'].hist(bins = 10, range=(0, 10))\n",
        "plt.title('Распределение количества символов в диапазоне 1-10 символов\\n\\\n",
        "в текстах из датасета с предложениями')\n",
        "plt.xlabel('Количество символов')\n",
        "plt.show()\n",
        "\n",
        "data_connl['token_count'].hist(bins = 70)\n",
        "plt.title('Распределение количества токенов\\n\\\n",
        "в текстах из датасета с предложениями')\n",
        "plt.xlabel('Количество токенов')\n",
        "plt.show()\n"
      ]
    },
    {
      "cell_type": "code",
      "execution_count": null,
      "id": "e1826fd5",
      "metadata": {
        "id": "e1826fd5"
      },
      "outputs": [],
      "source": [
        "# В датасете с предложениями оставляем только объекты с длиной символов > 3\n",
        "data_connl = data_connl.query('char_count > 3').reset_index(drop=True)  "
      ]
    },
    {
      "attachments": {},
      "cell_type": "markdown",
      "id": "VuwdUr15_DZj",
      "metadata": {
        "id": "VuwdUr15_DZj"
      },
      "source": [
        "### Создание набора данных для моделей BERT"
      ]
    },
    {
      "cell_type": "code",
      "execution_count": null,
      "id": "6a488dbf",
      "metadata": {
        "id": "6a488dbf"
      },
      "outputs": [],
      "source": [
        "# Если использовать СЫРОЙ текст установить RAW = True, \n",
        "# иначе используется датасет с предложениями\n",
        "RAW = True\n",
        "\n",
        "if RAW:\n",
        "    text_ = data['text']\n",
        "    labels_ = data['class_labels']\n",
        "    # Максимальное кол-во значащих векторов в эмбеддинге \n",
        "    # установить в соответствии с распределением кол-ва токенов\n",
        "    max_length = 160\n",
        "else:\n",
        "  text_ = data_connl['sentence']\n",
        "  labels_ = data_connl['class_labels']\n",
        "  max_length = 90"
      ]
    },
    {
      "cell_type": "code",
      "execution_count": null,
      "id": "m3NbWBhBgm06",
      "metadata": {
        "id": "m3NbWBhBgm06"
      },
      "outputs": [],
      "source": [
        "# Выделение тестовой части 90/10\n",
        "\n",
        "X_full_train, X_test, y_full_train, y_test = train_test_split(\n",
        "    text_,\n",
        "    labels_, \n",
        "    test_size=0.1, random_state = RANDOM_STATE, \n",
        "    shuffle=True, stratify=labels_\n",
        "    )"
      ]
    },
    {
      "cell_type": "code",
      "execution_count": null,
      "id": "thPHMYQthNtb",
      "metadata": {
        "id": "thPHMYQthNtb"
      },
      "outputs": [],
      "source": [
        "tokenizer = AutoTokenizer.from_pretrained('DeepPavlov/rubert-base-cased-sentence')"
      ]
    },
    {
      "cell_type": "code",
      "execution_count": null,
      "id": "zkwFcGCB4tOm",
      "metadata": {
        "id": "zkwFcGCB4tOm"
      },
      "outputs": [],
      "source": [
        "def series_ptrn_replace(\n",
        "    series_, \n",
        "    ptrn_=r'(\\b[А-ЯЁ]+\\b)|(\\b[а-яё]+[А-ЯЁ]+\\b)|(\\b[а-яё]+[А-ЯЁ]+[а-яё]+\\b)'\n",
        "    ):\n",
        "    '''\n",
        "    series_: pd.Series with texts\n",
        "    ptrn_: regex patter\n",
        "    Text preprocessing. Pattern reduction to lowercase\n",
        "    Default template (Cyrillic only)\n",
        "    ['сЛОВО' | 'cЛОВо' | 'СЛОво' | 'СЛОВО'] -> 'слово'\n",
        "    Но 'Слово' -> 'Слово' (не изменяется)\n",
        "    '''\n",
        "\n",
        "    def lower_(match_): \n",
        "        return str.lower(match_.group())\n",
        "        \n",
        "    if type(series_) is not pd.core.series.Series:\n",
        "        try:\n",
        "            series_ = pd.Series(series_)\n",
        "            print('Преобразовано в pd.Series.')\n",
        "        except:\n",
        "            print('Преобразование в pd.Series не удалось!')\n",
        "            return series_\n",
        "    try:\n",
        "        return_series = series_.str.replace(ptrn_, lower_, regex=True)\n",
        "        print('Обработка завершена успешно.')\n",
        "    except:\n",
        "        print('Замена слов по шаблону не удалась!')\n",
        "        return series_\n",
        "    return return_series"
      ]
    },
    {
      "cell_type": "code",
      "execution_count": null,
      "id": "FJIdI2Ys9Jd3",
      "metadata": {
        "colab": {
          "base_uri": "https://localhost:8080/"
        },
        "id": "FJIdI2Ys9Jd3",
        "outputId": "e28da61b-b2c5-4885-e845-5d68365819eb"
      },
      "outputs": [
        {
          "name": "stdout",
          "output_type": "stream",
          "text": [
            "Обработка завершена успешно.\n"
          ]
        }
      ],
      "source": [
        "X_full_train = series_ptrn_replace(X_full_train)"
      ]
    },
    {
      "cell_type": "code",
      "execution_count": null,
      "id": "a2iKxtqxCi9A",
      "metadata": {
        "id": "a2iKxtqxCi9A"
      },
      "outputs": [],
      "source": [
        "# Токенизация текстов. Для всех данных кроме теста\n",
        "\n",
        "X_full_train_tokens = tokenizer.batch_encode_plus(\n",
        "    X_full_train.to_list(),\n",
        "    max_length = max_length,\n",
        "    padding = 'max_length',\n",
        "    truncation = True,\n",
        "    add_special_tokens = True, #default\n",
        "    is_split_into_words = False, #default\n",
        ")"
      ]
    },
    {
      "cell_type": "code",
      "execution_count": null,
      "id": "L5D5cdW2CrNM",
      "metadata": {
        "colab": {
          "base_uri": "https://localhost:8080/"
        },
        "id": "L5D5cdW2CrNM",
        "outputId": "ed38d920-21f2-4ff9-a3d1-420562e7d04f"
      },
      "outputs": [
        {
          "name": "stdout",
          "output_type": "stream",
          "text": [
            "X train len = 1427\n",
            "y train len = 1427\n",
            "X val len = 159\n",
            "y val len = 159\n",
            "X test len = 177\n",
            "y test len = 177\n"
          ]
        }
      ],
      "source": [
        "# Выделение валидационной выборки 90/10\n",
        "\n",
        "(X_train_id, X_val_id, \n",
        " X_train_mask,  X_val_mask,  \n",
        " y_train, y_val) = train_test_split(\n",
        "     X_full_train_tokens['input_ids'],\n",
        "     X_full_train_tokens['attention_mask'], \n",
        "     y_full_train,\n",
        "     test_size=0.1, random_state = RANDOM_STATE, \n",
        "     shuffle=True, stratify=y_full_train\n",
        "     )\n",
        "\n",
        "print('X train len =', len(X_train_id))\n",
        "print('y train len =', len(y_train))\n",
        "\n",
        "print('X val len =', len(X_val_id))\n",
        "print('y val len =', len(y_val))\n",
        "\n",
        "print('X test len =', len(X_test))\n",
        "print('y test len =', len(y_test))"
      ]
    },
    {
      "cell_type": "code",
      "execution_count": null,
      "id": "a1b1fc81",
      "metadata": {
        "id": "a1b1fc81"
      },
      "outputs": [],
      "source": [
        "# Размер батча для даталоадера.\n",
        "# Для Google Collab free установить ~ 32..64\n",
        "batch_size = 32\n",
        "\n",
        "# Преобразование таргетов в np.array если не было сделано раньше\n",
        "if type(y_train) is not np.ndarray:\n",
        "    y_train = y_train.astype('int64').to_numpy()\n",
        "\n",
        "if type(y_val) is not np.ndarray:\n",
        "    y_val = y_val.astype('int64').to_numpy()\n",
        "\n",
        "# Создание даталоадеров для трейн и валидационной выборки\n",
        "dataloader_train = DataLoader(\n",
        "    dataset=TensorDataset(torch.tensor(X_train_id).to(DEVICE),\n",
        "                          torch.tensor(X_train_mask).to(DEVICE),\n",
        "                          torch.from_numpy(y_train).to(DEVICE)),\n",
        "    batch_size=batch_size, shuffle=True)\n",
        "\n",
        "dataloader_val = DataLoader(\n",
        "    dataset=TensorDataset(torch.tensor(X_val_id).to(DEVICE),\n",
        "                          torch.tensor(X_val_mask).to(DEVICE),\n",
        "                          torch.from_numpy(y_val).to(DEVICE)),\n",
        "    batch_size=batch_size, shuffle=True)"
      ]
    },
    {
      "attachments": {},
      "cell_type": "markdown",
      "id": "9TkPHMbTH2OV",
      "metadata": {
        "id": "9TkPHMbTH2OV"
      },
      "source": [
        "### Создание модели на основе BERT"
      ]
    },
    {
      "cell_type": "code",
      "execution_count": null,
      "id": "5c86893e",
      "metadata": {
        "id": "5c86893e"
      },
      "outputs": [],
      "source": [
        "# Создание модели со встроенным трансформером BERT и выходным классификатором\n",
        "# В виде нескольких полносвязных слоев нейронной сети\n",
        "\n",
        "class BertClassifier(nn.Module):\n",
        "\n",
        "    def __init__(self, \n",
        "                 input_dim, hidden_dim, output_dim,\n",
        "                 freeze_bert=False):\n",
        "        '''\n",
        "        freeze_bert (bool): Set `False` to fine-tune the BERT model\n",
        "        '''\n",
        "\n",
        "        super(BertClassifier, self).__init__()\n",
        "\n",
        "        # Трансформер BERT\n",
        "        config = AutoConfig.from_pretrained(\n",
        "            'DeepPavlov/rubert-base-cased-sentence',\n",
        "            num_labels=output_dim, output_hidden_states=True\n",
        "            )\n",
        "\n",
        "        self.bert = AutoModel.from_pretrained(\n",
        "            'DeepPavlov/rubert-base-cased-sentence',\n",
        "            config=config\n",
        "            )\n",
        "        \n",
        "        self.bert.to(DEVICE)\n",
        "        \n",
        "        # Классификатор - полносвязная нейронная сеть\n",
        "        # 2 скрытых слоя + выходной\n",
        "        self.classifier = nn.Sequential(\n",
        "            nn.Linear(input_dim, hidden_dim),\n",
        "            nn.LeakyReLU(),\n",
        "            nn.Linear(hidden_dim, hidden_dim * 2),\n",
        "            nn.LeakyReLU(),\n",
        "            nn.Linear(hidden_dim * 2, output_dim),\n",
        "            #nn.LogSoftmax(dim=0),\n",
        "            )\n",
        "        self.classifier.to(DEVICE)\n",
        "\n",
        "        # Заморозка состояний слоев BERT \n",
        "        if freeze_bert:\n",
        "            for param in self.bert.parameters():\n",
        "                param.requires_grad = False\n",
        "        \n",
        "    def forward(self, input_ids, mask_):\n",
        "\n",
        "        hidden_states_emb_ = torch.empty(13, 0, max_length, 768)\n",
        "        hidden_states_emb_.to(DEVICE)\n",
        "\n",
        "        # Получение выходов трансформера BERT\n",
        "       \n",
        "        output = self.bert(input_ids=input_ids,\n",
        "                            attention_mask=mask_)\n",
        "        \n",
        "        # Получение состояния вектора токена - классификатора [CLS]\n",
        "        last_hidden_state_cls = output.last_hidden_state[:, 0, :]\n",
        "        last_hidden_state_cls.to(DEVICE)\n",
        "\n",
        "        # Получение состояний скрытых слоев (12 + 1 входной)\n",
        "        hidden_states_ = torch.stack(output.hidden_states, dim=0)\n",
        "        input_mask_expanded_hs = mask_.unsqueeze(-1).expand(\n",
        "            hidden_states_.size()).float()    # <- !!!\n",
        "        input_mask_expanded_hs.to(DEVICE)\n",
        "        hidden_states_ = hidden_states_ * input_mask_expanded_hs\n",
        "        \n",
        "        hidden_states_emb_ = torch.cat((hidden_states_emb_.to(DEVICE),\n",
        "                                        hidden_states_.to(DEVICE)), 1)\n",
        "        \n",
        "        # Получение состояния предпоследнего слоя\n",
        "        scnd_to_last = hidden_states_emb_[-2,:]\n",
        "        scnd_to_last = torch.mean(scnd_to_last, dim=1)\n",
        "\n",
        "        # Получение суммы логитов последних 4 слоев\n",
        "        sum_last_4 = torch.sum(hidden_states_emb_[-4:], dim=0)\n",
        "        sum_last_4 = torch.mean(sum_last_4, dim=1)\n",
        "\n",
        "        # Получение состояния последнего слоя\n",
        "        input_mask_expanded_last = mask_.unsqueeze(-1).expand(\n",
        "            output.last_hidden_state.size()).float()\n",
        "        last_layer = output.last_hidden_state * input_mask_expanded_last        \n",
        "        last_layer = torch.mean(last_layer, dim=1)\n",
        "\n",
        "        # Заполнение входов классификатора различными выходами BERT\n",
        "        logits_cls = self.classifier(last_hidden_state_cls)\n",
        "        logits_scnd = self.classifier(scnd_to_last)\n",
        "        logits_sum = self.classifier(sum_last_4)\n",
        "        logits_last = self.classifier(last_layer)\n",
        "        \n",
        "        # Вычисление средних значений выходов классификаторв\n",
        "        cat_ = (torch.nn.functional.normalize(logits_cls, p=2) +\n",
        "                torch.nn.functional.normalize(logits_scnd, p=2) +\n",
        "                torch.nn.functional.normalize(logits_sum, p=2) +\n",
        "                torch.nn.functional.normalize(logits_last, p=2))\n",
        "        \n",
        "        cat_mean_ = cat_ / batch_size\n",
        "        #print(logits_cls[0])\n",
        "        #print(logits_scnd[0])\n",
        "        #print(logits_sum[0])\n",
        "        #print(logits_last[0])\n",
        "        return cat_mean_"
      ]
    },
    {
      "cell_type": "code",
      "execution_count": null,
      "id": "OO_uH7dZrD9Z",
      "metadata": {
        "colab": {
          "base_uri": "https://localhost:8080/"
        },
        "id": "OO_uH7dZrD9Z",
        "outputId": "841a0a43-9664-4bbc-b270-932d4a9f2a27"
      },
      "outputs": [
        {
          "name": "stdout",
          "output_type": "stream",
          "text": [
            "Определенные веса классов:\n",
            "[0.74206968 1.468107   1.02958153]\n"
          ]
        }
      ],
      "source": [
        "# Определение весов целевых классов для использования в функции потерь\n",
        "# Для обучающего набора\n",
        "\n",
        "class_weights_train = compute_class_weight(\n",
        "    class_weight='balanced',\n",
        "    classes=np.array(list(labels_dict.keys())),\n",
        "    y=y_train)\n",
        "\n",
        "print(f'Определенные веса классов:\\n\\\n",
        "{class_weights_train}')\n",
        "\n",
        "weights_train = torch.tensor(class_weights_train,\n",
        "                             dtype = torch.float).to(DEVICE)"
      ]
    },
    {
      "cell_type": "code",
      "execution_count": null,
      "id": "a876f232",
      "metadata": {
        "id": "a876f232"
      },
      "outputs": [],
      "source": [
        "# Входные переменные для модели\n",
        "\n",
        "input_dim = 768   # Не менять для этой модели. Размерность эмбеддингов BERT\n",
        "hidden_dim = 768  # Размер скрытого слоя классификатора (или 1 скрытого слоя)\n",
        "output_dim = 3    # Колво логитов выходного слоя классификатора\n",
        "                  # Принять равным кол-ву классов\n",
        "                  # Также используется при инициализации BERT в num_labels\n",
        "lr_ = 5e-5        # Шаг оптимизтора learning rate (default: 1e-3 = 0.001)\n",
        "\n",
        "# Функция потерь\n",
        "loss_fn = nn.CrossEntropyLoss(weight=weights_train)\n",
        "# Инициализация модели \n",
        "model = BertClassifier(input_dim, hidden_dim, output_dim)\n",
        "# Инициализация оптимизатора\n",
        "optimizer = torch.optim.Adam(model.parameters(), lr=lr_)\n",
        "\n",
        "#print(model)"
      ]
    },
    {
      "attachments": {},
      "cell_type": "markdown",
      "id": "eoqQZ-uRH9ss",
      "metadata": {
        "id": "eoqQZ-uRH9ss"
      },
      "source": [
        "### Обучение модели"
      ]
    },
    {
      "cell_type": "code",
      "execution_count": null,
      "id": "eG6dR1den5uW",
      "metadata": {
        "id": "eG6dR1den5uW"
      },
      "outputs": [],
      "source": [
        "def train_model(model_, loss_, optimizer_, \n",
        "                dataloader_, device_, num_epochs_=20):\n",
        "\n",
        "    num_epochs = num_epochs_\n",
        "\n",
        "    loss_values_batch = []\n",
        "\n",
        "    model_.to(device_)\n",
        "\n",
        "    print('DEVICE SET TO ', device_)\n",
        "\n",
        "    print(f'Model training STARTED')\n",
        "    model_.train()\n",
        "    \n",
        "    for epoch in range(num_epochs):\n",
        "        print(f'Epoch {epoch +1 }/{num_epochs} STARTED')\n",
        "        loss_values = []\n",
        "        for batch in tqdm(dataloader_, total=len(dataloader_)):\n",
        "\n",
        "            X, mask, y = tuple(t.to(device_) for t in batch)\n",
        "\n",
        "            # zero the parameter gradients\n",
        "            optimizer_.zero_grad()\n",
        "        \n",
        "            # forward + backward + optimize\n",
        "            pred = model_(X, mask)\n",
        "\n",
        "            loss = loss_(pred, y)\n",
        "            loss_values.append(loss.item())\n",
        "            loss.backward()\n",
        "            optimizer_.step()\n",
        "        \n",
        "        avg_loss_ = sum(loss_values) / len(loss_values)\n",
        "        loss_values_batch.append(avg_loss_)\n",
        "        print(f'Epoch COMPLETE. Average loss: {avg_loss_}')\n",
        "  \n",
        "    print(f'Model training COMPLETE')\n",
        "    return model_, loss_values_batch"
      ]
    },
    {
      "cell_type": "code",
      "execution_count": null,
      "id": "KFEVn2WTmXkQ",
      "metadata": {
        "id": "KFEVn2WTmXkQ"
      },
      "outputs": [],
      "source": [
        "def loss_plot(loss_values_batch_, num_last_epochs_=3, add_to_title_=''):\n",
        "    '''\n",
        "    loss_values_batch_: list-like of float, List with loss values\n",
        "    num_last_epochs_: int, the number of recent epochs for which the average \n",
        "                      loss will be calculated\n",
        "    add_to_title_: str to be added to the title of the plot\n",
        "    The function will plot the change in the loss value\n",
        "    Return None\n",
        "    '''\n",
        "\n",
        "    last_ = sum(loss_values_batch_[-num_last_epochs_:])/num_last_epochs_\n",
        "\n",
        "    fig, ax = plt.subplots(figsize=(8,5))\n",
        "    plt.plot(loss_values_batch_)\n",
        "    plt.title(f'Значения функции потерь по эпохам\\n\\\n",
        "    Mean last {num_last_epochs_} epochs: {last_:,.5f}\\n\\\n",
        "    {add_to_title_}')\n",
        "    plt.xlabel('Эпохи')\n",
        "    plt.ylabel('Loss')\n",
        "    plt.show()\n",
        "\n",
        "    return None"
      ]
    },
    {
      "cell_type": "code",
      "execution_count": null,
      "id": "z3ewVIJEpOUi",
      "metadata": {
        "colab": {
          "base_uri": "https://localhost:8080/"
        },
        "id": "z3ewVIJEpOUi",
        "outputId": "d6f33809-154e-484c-f29a-1fe4aaca0d79"
      },
      "outputs": [
        {
          "name": "stdout",
          "output_type": "stream",
          "text": [
            "DEVICE SET TO  cuda:0\n",
            "Model training STARTED\n",
            "Epoch 1/20 STARTED\n"
          ]
        },
        {
          "name": "stderr",
          "output_type": "stream",
          "text": [
            "100%|██████████| 45/45 [00:36<00:00,  1.22it/s]\n"
          ]
        },
        {
          "name": "stdout",
          "output_type": "stream",
          "text": [
            "Epoch COMPLETE. Average loss: 1.033450232611762\n",
            "Epoch 2/20 STARTED\n"
          ]
        },
        {
          "name": "stderr",
          "output_type": "stream",
          "text": [
            "100%|██████████| 45/45 [00:36<00:00,  1.24it/s]\n"
          ]
        },
        {
          "name": "stdout",
          "output_type": "stream",
          "text": [
            "Epoch COMPLETE. Average loss: 1.0058693329493205\n",
            "Epoch 3/20 STARTED\n"
          ]
        },
        {
          "name": "stderr",
          "output_type": "stream",
          "text": [
            "100%|██████████| 45/45 [00:36<00:00,  1.23it/s]\n"
          ]
        },
        {
          "name": "stdout",
          "output_type": "stream",
          "text": [
            "Epoch COMPLETE. Average loss: 1.0023710038926867\n",
            "Epoch 4/20 STARTED\n"
          ]
        },
        {
          "name": "stderr",
          "output_type": "stream",
          "text": [
            "100%|██████████| 45/45 [00:36<00:00,  1.22it/s]\n"
          ]
        },
        {
          "name": "stdout",
          "output_type": "stream",
          "text": [
            "Epoch COMPLETE. Average loss: 1.0016510897212558\n",
            "Epoch 5/20 STARTED\n"
          ]
        },
        {
          "name": "stderr",
          "output_type": "stream",
          "text": [
            "100%|██████████| 45/45 [00:37<00:00,  1.22it/s]\n"
          ]
        },
        {
          "name": "stdout",
          "output_type": "stream",
          "text": [
            "Epoch COMPLETE. Average loss: 1.0007415307892693\n",
            "Epoch 6/20 STARTED\n"
          ]
        },
        {
          "name": "stderr",
          "output_type": "stream",
          "text": [
            "100%|██████████| 45/45 [00:37<00:00,  1.21it/s]\n"
          ]
        },
        {
          "name": "stdout",
          "output_type": "stream",
          "text": [
            "Epoch COMPLETE. Average loss: 1.0003197987874348\n",
            "Epoch 7/20 STARTED\n"
          ]
        },
        {
          "name": "stderr",
          "output_type": "stream",
          "text": [
            "100%|██████████| 45/45 [00:37<00:00,  1.21it/s]\n"
          ]
        },
        {
          "name": "stdout",
          "output_type": "stream",
          "text": [
            "Epoch COMPLETE. Average loss: 1.0003601445092096\n",
            "Epoch 8/20 STARTED\n"
          ]
        },
        {
          "name": "stderr",
          "output_type": "stream",
          "text": [
            "100%|██████████| 45/45 [00:37<00:00,  1.21it/s]\n"
          ]
        },
        {
          "name": "stdout",
          "output_type": "stream",
          "text": [
            "Epoch COMPLETE. Average loss: 0.9996035522884793\n",
            "Epoch 9/20 STARTED\n"
          ]
        },
        {
          "name": "stderr",
          "output_type": "stream",
          "text": [
            "100%|██████████| 45/45 [00:37<00:00,  1.21it/s]\n"
          ]
        },
        {
          "name": "stdout",
          "output_type": "stream",
          "text": [
            "Epoch COMPLETE. Average loss: 0.9994904028044806\n",
            "Epoch 10/20 STARTED\n"
          ]
        },
        {
          "name": "stderr",
          "output_type": "stream",
          "text": [
            "100%|██████████| 45/45 [00:37<00:00,  1.21it/s]\n"
          ]
        },
        {
          "name": "stdout",
          "output_type": "stream",
          "text": [
            "Epoch COMPLETE. Average loss: 0.9998139182726542\n",
            "Epoch 11/20 STARTED\n"
          ]
        },
        {
          "name": "stderr",
          "output_type": "stream",
          "text": [
            "100%|██████████| 45/45 [00:37<00:00,  1.21it/s]\n"
          ]
        },
        {
          "name": "stdout",
          "output_type": "stream",
          "text": [
            "Epoch COMPLETE. Average loss: 0.9993803766038682\n",
            "Epoch 12/20 STARTED\n"
          ]
        },
        {
          "name": "stderr",
          "output_type": "stream",
          "text": [
            "100%|██████████| 45/45 [00:37<00:00,  1.21it/s]\n"
          ]
        },
        {
          "name": "stdout",
          "output_type": "stream",
          "text": [
            "Epoch COMPLETE. Average loss: 0.9993567532963223\n",
            "Epoch 13/20 STARTED\n"
          ]
        },
        {
          "name": "stderr",
          "output_type": "stream",
          "text": [
            "100%|██████████| 45/45 [00:37<00:00,  1.21it/s]\n"
          ]
        },
        {
          "name": "stdout",
          "output_type": "stream",
          "text": [
            "Epoch COMPLETE. Average loss: 0.999285536342197\n",
            "Epoch 14/20 STARTED\n"
          ]
        },
        {
          "name": "stderr",
          "output_type": "stream",
          "text": [
            "100%|██████████| 45/45 [00:37<00:00,  1.21it/s]\n"
          ]
        },
        {
          "name": "stdout",
          "output_type": "stream",
          "text": [
            "Epoch COMPLETE. Average loss: 0.9992846594916449\n",
            "Epoch 15/20 STARTED\n"
          ]
        },
        {
          "name": "stderr",
          "output_type": "stream",
          "text": [
            "100%|██████████| 45/45 [00:37<00:00,  1.21it/s]\n"
          ]
        },
        {
          "name": "stdout",
          "output_type": "stream",
          "text": [
            "Epoch COMPLETE. Average loss: 0.9992838740348816\n",
            "Epoch 16/20 STARTED\n"
          ]
        },
        {
          "name": "stderr",
          "output_type": "stream",
          "text": [
            "100%|██████████| 45/45 [00:37<00:00,  1.20it/s]\n"
          ]
        },
        {
          "name": "stdout",
          "output_type": "stream",
          "text": [
            "Epoch COMPLETE. Average loss: 0.9992081721623739\n",
            "Epoch 17/20 STARTED\n"
          ]
        },
        {
          "name": "stderr",
          "output_type": "stream",
          "text": [
            "100%|██████████| 45/45 [00:37<00:00,  1.21it/s]\n"
          ]
        },
        {
          "name": "stdout",
          "output_type": "stream",
          "text": [
            "Epoch COMPLETE. Average loss: 0.999208660920461\n",
            "Epoch 18/20 STARTED\n"
          ]
        },
        {
          "name": "stderr",
          "output_type": "stream",
          "text": [
            "100%|██████████| 45/45 [00:37<00:00,  1.21it/s]\n"
          ]
        },
        {
          "name": "stdout",
          "output_type": "stream",
          "text": [
            "Epoch COMPLETE. Average loss: 0.9998852835761176\n",
            "Epoch 19/20 STARTED\n"
          ]
        },
        {
          "name": "stderr",
          "output_type": "stream",
          "text": [
            "100%|██████████| 45/45 [00:37<00:00,  1.21it/s]\n"
          ]
        },
        {
          "name": "stdout",
          "output_type": "stream",
          "text": [
            "Epoch COMPLETE. Average loss: 0.9993470748265584\n",
            "Epoch 20/20 STARTED\n"
          ]
        },
        {
          "name": "stderr",
          "output_type": "stream",
          "text": [
            "100%|██████████| 45/45 [00:37<00:00,  1.21it/s]"
          ]
        },
        {
          "name": "stdout",
          "output_type": "stream",
          "text": [
            "Epoch COMPLETE. Average loss: 1.0000072267320421\n",
            "Model training COMPLETE\n"
          ]
        },
        {
          "name": "stderr",
          "output_type": "stream",
          "text": [
            "\n"
          ]
        }
      ],
      "source": [
        "model, loss_values_batch = train_model(\n",
        "    model, loss_fn, optimizer,\n",
        "    dataloader_train, DEVICE, num_epochs_=20\n",
        "    )"
      ]
    },
    {
      "cell_type": "code",
      "execution_count": null,
      "id": "yOvrm-VOkpH_",
      "metadata": {
        "colab": {
          "base_uri": "https://localhost:8080/",
          "height": 529
        },
        "id": "yOvrm-VOkpH_",
        "outputId": "8ea3b5bf-0bfc-47e7-bbfe-703388252918"
      },
      "outputs": [
        {
          "data": {
            "image/png": "[encoded data removed]",
            "text/plain": [
              "<Figure size 800x500 with 1 Axes>"
            ]
          },
          "metadata": {},
          "output_type": "display_data"
        }
      ],
      "source": [
        "loss_plot(loss_values_batch, num_last_epochs_=3, \n",
        "          add_to_title_='Обучающая выборка')"
      ]
    },
    {
      "attachments": {},
      "cell_type": "markdown",
      "id": "8HSUv86gIBPn",
      "metadata": {
        "id": "8HSUv86gIBPn"
      },
      "source": [
        "### Проверка на валидационной выборке"
      ]
    },
    {
      "cell_type": "code",
      "execution_count": null,
      "id": "b38185f5",
      "metadata": {
        "colab": {
          "base_uri": "https://localhost:8080/"
        },
        "id": "b38185f5",
        "outputId": "ef849924-c335-4dc6-f013-e97e807d293f"
      },
      "outputs": [
        {
          "name": "stdout",
          "output_type": "stream",
          "text": [
            "Model validating STARTED\n"
          ]
        },
        {
          "name": "stderr",
          "output_type": "stream",
          "text": [
            "100%|██████████| 5/5 [00:01<00:00,  3.50it/s]"
          ]
        },
        {
          "name": "stdout",
          "output_type": "stream",
          "text": [
            "\n",
            "F1 macro score = 0.9034890320033558\n",
            "Model validating COMPLETE\n"
          ]
        },
        {
          "name": "stderr",
          "output_type": "stream",
          "text": [
            "\n"
          ]
        }
      ],
      "source": [
        "print(f'Model validating STARTED')\n",
        "    \n",
        "model.eval()\n",
        "y_pred = np.array(0)\n",
        "y_true = np.array(0)\n",
        "\n",
        "all_logits = []\n",
        "\n",
        "with torch.no_grad():\n",
        "    for batch in tqdm(dataloader_val, total=len(dataloader_val)):\n",
        "      X, mask, y = tuple(t.to(DEVICE) for t in batch)\n",
        "      output = model(X, mask)\n",
        "      all_logits.append(output)\n",
        "      #y_pred = np.hstack([y_pred, torch.argmax(output, dim=1).cpu().numpy()])\n",
        "      y_pred = np.hstack(\n",
        "          [y_pred, \n",
        "           torch.argmax(\n",
        "               nn.functional.log_softmax(output, dim=1),\n",
        "               dim=1\n",
        "               ).cpu().numpy()])\n",
        "      \n",
        "      y_true = np.hstack([y_true, y.cpu().numpy()])\n",
        "\n",
        "y_true = y_true[1:]\n",
        "y_pred = y_pred[1:]\n",
        "\n",
        "f1_score_ = f1_score(y_true, y_pred, average=AVG_F1)\n",
        "\n",
        "print()\n",
        "print(f'F1 macro score = {f1_score_}')\n",
        "\n",
        "print(f'Model validating COMPLETE')"
      ]
    },
    {
      "attachments": {},
      "cell_type": "markdown",
      "id": "TsAHuFKuqOov",
      "metadata": {
        "id": "TsAHuFKuqOov"
      },
      "source": [
        "### Обучение на полной тренировочной выборке"
      ]
    },
    {
      "cell_type": "code",
      "execution_count": null,
      "id": "r8f4ErbKqwi2",
      "metadata": {
        "colab": {
          "base_uri": "https://localhost:8080/"
        },
        "id": "r8f4ErbKqwi2",
        "outputId": "89c83fa7-636f-450c-8c13-3c4765aa946c"
      },
      "outputs": [
        {
          "name": "stdout",
          "output_type": "stream",
          "text": [
            "X test len = 1586\n",
            "y test len = 1586\n"
          ]
        }
      ],
      "source": [
        "# Полный тренировочный набор данных: \n",
        "# X_full_train -> X_full_train_tokens, y_full_train\n",
        "print('X test len =', len(X_full_train))\n",
        "print('y test len =', len(y_full_train))"
      ]
    },
    {
      "cell_type": "code",
      "execution_count": null,
      "id": "m0x5qEq9qftn",
      "metadata": {
        "id": "m0x5qEq9qftn"
      },
      "outputs": [],
      "source": [
        "# Размер батча для даталоадера. \n",
        "# Для Google Collab free установить ~ 32..64\n",
        "batch_size = 32\n",
        "\n",
        "# Преобразование таргетов в np.array если не было сделано раньше\n",
        "if type(y_full_train) is not np.ndarray:\n",
        "    y_full_train = y_full_train.astype('int64').to_numpy()\n",
        "\n",
        "# Создание даталоадеров для трейн и валидационной выборки\n",
        "dataloader_full_train = DataLoader(\n",
        "    dataset=TensorDataset(\n",
        "        torch.tensor(X_full_train_tokens['input_ids']).to(DEVICE),\n",
        "        torch.tensor(X_full_train_tokens['attention_mask']).to(DEVICE),\n",
        "        torch.from_numpy(y_full_train).to(DEVICE)\n",
        "        ), batch_size=batch_size, shuffle=True\n",
        "        )"
      ]
    },
    {
      "cell_type": "code",
      "execution_count": null,
      "id": "fPkJC4P6soMK",
      "metadata": {
        "colab": {
          "base_uri": "https://localhost:8080/"
        },
        "id": "fPkJC4P6soMK",
        "outputId": "5a32b8fc-a24e-4876-dc42-7574081ae70a"
      },
      "outputs": [
        {
          "name": "stdout",
          "output_type": "stream",
          "text": [
            "Определенные веса классов:\n",
            "[0.74206968 1.468107   1.02958153]\n"
          ]
        }
      ],
      "source": [
        "# Определение весов целевых классов для использования в функции потерь\n",
        "# Для полного обучающего набора (train + val)\n",
        "\n",
        "class_weights_train_full = compute_class_weight(\n",
        "    class_weight='balanced',\n",
        "    classes=np.array(list(labels_dict.keys())),\n",
        "    y=y_train)\n",
        "\n",
        "print(f'Определенные веса классов:\\n\\\n",
        "{class_weights_train_full}')\n",
        "\n",
        "weights_train_full = torch.tensor(class_weights_train_full, \n",
        "                                  dtype = torch.float).to(DEVICE)"
      ]
    },
    {
      "cell_type": "code",
      "execution_count": null,
      "id": "4ujckpHGvdsA",
      "metadata": {
        "id": "4ujckpHGvdsA"
      },
      "outputs": [],
      "source": [
        "# Входные переменные для модели\n",
        "\n",
        "input_dim = 768   # Не менять для этой модели. Размерность эмбеддингов BERT\n",
        "hidden_dim = 768  # Размер скрытого слоя классификатора (или 1 скрытого слоя)\n",
        "output_dim = 3    # Колво логитов выходного слоя классификатора\n",
        "                  # Принять равным кол-ву классов\n",
        "                  # Также используется при инициализации BERT в num_labels\n",
        "lr_ = 5e-5        # Шаг оптимизтора learning rate (default: 1e-3 = 0.001)\n",
        "\n",
        "# Функция потерь\n",
        "loss_fn = nn.CrossEntropyLoss(weight=weights_train_full)\n",
        "# Инициализация модели \n",
        "model_full = BertClassifier(input_dim, hidden_dim, output_dim)\n",
        "# Инициализация оптимизатора\n",
        "optimizer = torch.optim.Adam(model_full.parameters(), lr=lr_)"
      ]
    },
    {
      "cell_type": "code",
      "execution_count": null,
      "id": "t0tY1iusqT22",
      "metadata": {
        "colab": {
          "base_uri": "https://localhost:8080/"
        },
        "id": "t0tY1iusqT22",
        "outputId": "212ded43-5ded-4a28-dc0e-9d086e833f89"
      },
      "outputs": [
        {
          "name": "stdout",
          "output_type": "stream",
          "text": [
            "DEVICE SET TO  cuda:0\n",
            "Model training STARTED\n",
            "Epoch 1/30 STARTED\n"
          ]
        },
        {
          "name": "stderr",
          "output_type": "stream",
          "text": [
            "100%|██████████| 50/50 [00:41<00:00,  1.22it/s]\n"
          ]
        },
        {
          "name": "stdout",
          "output_type": "stream",
          "text": [
            "Epoch COMPLETE. Average loss: 1.0509322810173034\n",
            "Epoch 2/30 STARTED\n"
          ]
        },
        {
          "name": "stderr",
          "output_type": "stream",
          "text": [
            "100%|██████████| 50/50 [00:41<00:00,  1.21it/s]\n"
          ]
        },
        {
          "name": "stdout",
          "output_type": "stream",
          "text": [
            "Epoch COMPLETE. Average loss: 1.0073221254348754\n",
            "Epoch 3/30 STARTED\n"
          ]
        },
        {
          "name": "stderr",
          "output_type": "stream",
          "text": [
            "100%|██████████| 50/50 [00:41<00:00,  1.21it/s]\n"
          ]
        },
        {
          "name": "stdout",
          "output_type": "stream",
          "text": [
            "Epoch COMPLETE. Average loss: 1.0045599102973939\n",
            "Epoch 4/30 STARTED\n"
          ]
        },
        {
          "name": "stderr",
          "output_type": "stream",
          "text": [
            "100%|██████████| 50/50 [00:41<00:00,  1.21it/s]\n"
          ]
        },
        {
          "name": "stdout",
          "output_type": "stream",
          "text": [
            "Epoch COMPLETE. Average loss: 1.0028064513206483\n",
            "Epoch 5/30 STARTED\n"
          ]
        },
        {
          "name": "stderr",
          "output_type": "stream",
          "text": [
            "100%|██████████| 50/50 [00:41<00:00,  1.21it/s]\n"
          ]
        },
        {
          "name": "stdout",
          "output_type": "stream",
          "text": [
            "Epoch COMPLETE. Average loss: 1.0008694839477539\n",
            "Epoch 6/30 STARTED\n"
          ]
        },
        {
          "name": "stderr",
          "output_type": "stream",
          "text": [
            "100%|██████████| 50/50 [00:41<00:00,  1.21it/s]\n"
          ]
        },
        {
          "name": "stdout",
          "output_type": "stream",
          "text": [
            "Epoch COMPLETE. Average loss: 1.000905373096466\n",
            "Epoch 7/30 STARTED\n"
          ]
        },
        {
          "name": "stderr",
          "output_type": "stream",
          "text": [
            "100%|██████████| 50/50 [00:41<00:00,  1.21it/s]\n"
          ]
        },
        {
          "name": "stdout",
          "output_type": "stream",
          "text": [
            "Epoch COMPLETE. Average loss: 1.0004503571987151\n",
            "Epoch 8/30 STARTED\n"
          ]
        },
        {
          "name": "stderr",
          "output_type": "stream",
          "text": [
            "100%|██████████| 50/50 [00:41<00:00,  1.21it/s]\n"
          ]
        },
        {
          "name": "stdout",
          "output_type": "stream",
          "text": [
            "Epoch COMPLETE. Average loss: 0.9995560109615326\n",
            "Epoch 9/30 STARTED\n"
          ]
        },
        {
          "name": "stderr",
          "output_type": "stream",
          "text": [
            "100%|██████████| 50/50 [00:41<00:00,  1.21it/s]\n"
          ]
        },
        {
          "name": "stdout",
          "output_type": "stream",
          "text": [
            "Epoch COMPLETE. Average loss: 0.9993552958965302\n",
            "Epoch 10/30 STARTED\n"
          ]
        },
        {
          "name": "stderr",
          "output_type": "stream",
          "text": [
            "100%|██████████| 50/50 [00:41<00:00,  1.21it/s]\n"
          ]
        },
        {
          "name": "stdout",
          "output_type": "stream",
          "text": [
            "Epoch COMPLETE. Average loss: 0.9994256222248077\n",
            "Epoch 11/30 STARTED\n"
          ]
        },
        {
          "name": "stderr",
          "output_type": "stream",
          "text": [
            "100%|██████████| 50/50 [00:41<00:00,  1.21it/s]\n"
          ]
        },
        {
          "name": "stdout",
          "output_type": "stream",
          "text": [
            "Epoch COMPLETE. Average loss: 0.9994961094856262\n",
            "Epoch 12/30 STARTED\n"
          ]
        },
        {
          "name": "stderr",
          "output_type": "stream",
          "text": [
            "100%|██████████| 50/50 [00:41<00:00,  1.21it/s]\n"
          ]
        },
        {
          "name": "stdout",
          "output_type": "stream",
          "text": [
            "Epoch COMPLETE. Average loss: 1.000951247215271\n",
            "Epoch 13/30 STARTED\n"
          ]
        },
        {
          "name": "stderr",
          "output_type": "stream",
          "text": [
            "100%|██████████| 50/50 [00:41<00:00,  1.21it/s]\n"
          ]
        },
        {
          "name": "stdout",
          "output_type": "stream",
          "text": [
            "Epoch COMPLETE. Average loss: 1.0004310703277588\n",
            "Epoch 14/30 STARTED\n"
          ]
        },
        {
          "name": "stderr",
          "output_type": "stream",
          "text": [
            "100%|██████████| 50/50 [00:41<00:00,  1.21it/s]\n"
          ]
        },
        {
          "name": "stdout",
          "output_type": "stream",
          "text": [
            "Epoch COMPLETE. Average loss: 1.0007680797576903\n",
            "Epoch 15/30 STARTED\n"
          ]
        },
        {
          "name": "stderr",
          "output_type": "stream",
          "text": [
            "100%|██████████| 50/50 [00:41<00:00,  1.21it/s]\n"
          ]
        },
        {
          "name": "stdout",
          "output_type": "stream",
          "text": [
            "Epoch COMPLETE. Average loss: 1.0019808053970336\n",
            "Epoch 16/30 STARTED\n"
          ]
        },
        {
          "name": "stderr",
          "output_type": "stream",
          "text": [
            "100%|██████████| 50/50 [00:41<00:00,  1.21it/s]\n"
          ]
        },
        {
          "name": "stdout",
          "output_type": "stream",
          "text": [
            "Epoch COMPLETE. Average loss: 1.0006012904644013\n",
            "Epoch 17/30 STARTED\n"
          ]
        },
        {
          "name": "stderr",
          "output_type": "stream",
          "text": [
            "100%|██████████| 50/50 [00:41<00:00,  1.21it/s]\n"
          ]
        },
        {
          "name": "stdout",
          "output_type": "stream",
          "text": [
            "Epoch COMPLETE. Average loss: 0.9997758400440216\n",
            "Epoch 18/30 STARTED\n"
          ]
        },
        {
          "name": "stderr",
          "output_type": "stream",
          "text": [
            "100%|██████████| 50/50 [00:41<00:00,  1.21it/s]\n"
          ]
        },
        {
          "name": "stdout",
          "output_type": "stream",
          "text": [
            "Epoch COMPLETE. Average loss: 1.0004293823242187\n",
            "Epoch 19/30 STARTED\n"
          ]
        },
        {
          "name": "stderr",
          "output_type": "stream",
          "text": [
            "100%|██████████| 50/50 [00:41<00:00,  1.21it/s]\n"
          ]
        },
        {
          "name": "stdout",
          "output_type": "stream",
          "text": [
            "Epoch COMPLETE. Average loss: 1.0002970254421235\n",
            "Epoch 20/30 STARTED\n"
          ]
        },
        {
          "name": "stderr",
          "output_type": "stream",
          "text": [
            "100%|██████████| 50/50 [00:41<00:00,  1.21it/s]\n"
          ]
        },
        {
          "name": "stdout",
          "output_type": "stream",
          "text": [
            "Epoch COMPLETE. Average loss: 1.0004191076755524\n",
            "Epoch 21/30 STARTED\n"
          ]
        },
        {
          "name": "stderr",
          "output_type": "stream",
          "text": [
            "100%|██████████| 50/50 [00:41<00:00,  1.21it/s]\n"
          ]
        },
        {
          "name": "stdout",
          "output_type": "stream",
          "text": [
            "Epoch COMPLETE. Average loss: 0.999648756980896\n",
            "Epoch 22/30 STARTED\n"
          ]
        },
        {
          "name": "stderr",
          "output_type": "stream",
          "text": [
            "100%|██████████| 50/50 [00:41<00:00,  1.21it/s]\n"
          ]
        },
        {
          "name": "stdout",
          "output_type": "stream",
          "text": [
            "Epoch COMPLETE. Average loss: 0.9995704185962677\n",
            "Epoch 23/30 STARTED\n"
          ]
        },
        {
          "name": "stderr",
          "output_type": "stream",
          "text": [
            "100%|██████████| 50/50 [00:41<00:00,  1.21it/s]\n"
          ]
        },
        {
          "name": "stdout",
          "output_type": "stream",
          "text": [
            "Epoch COMPLETE. Average loss: 1.000168056488037\n",
            "Epoch 24/30 STARTED\n"
          ]
        },
        {
          "name": "stderr",
          "output_type": "stream",
          "text": [
            "100%|██████████| 50/50 [00:41<00:00,  1.21it/s]\n"
          ]
        },
        {
          "name": "stdout",
          "output_type": "stream",
          "text": [
            "Epoch COMPLETE. Average loss: 1.0002839720249177\n",
            "Epoch 25/30 STARTED\n"
          ]
        },
        {
          "name": "stderr",
          "output_type": "stream",
          "text": [
            "100%|██████████| 50/50 [00:41<00:00,  1.21it/s]\n"
          ]
        },
        {
          "name": "stdout",
          "output_type": "stream",
          "text": [
            "Epoch COMPLETE. Average loss: 1.0016406393051147\n",
            "Epoch 26/30 STARTED\n"
          ]
        },
        {
          "name": "stderr",
          "output_type": "stream",
          "text": [
            "100%|██████████| 50/50 [00:41<00:00,  1.21it/s]\n"
          ]
        },
        {
          "name": "stdout",
          "output_type": "stream",
          "text": [
            "Epoch COMPLETE. Average loss: 1.001249680519104\n",
            "Epoch 27/30 STARTED\n"
          ]
        },
        {
          "name": "stderr",
          "output_type": "stream",
          "text": [
            "100%|██████████| 50/50 [00:41<00:00,  1.21it/s]\n"
          ]
        },
        {
          "name": "stdout",
          "output_type": "stream",
          "text": [
            "Epoch COMPLETE. Average loss: 1.0001776313781738\n",
            "Epoch 28/30 STARTED\n"
          ]
        },
        {
          "name": "stderr",
          "output_type": "stream",
          "text": [
            "100%|██████████| 50/50 [00:41<00:00,  1.21it/s]\n"
          ]
        },
        {
          "name": "stdout",
          "output_type": "stream",
          "text": [
            "Epoch COMPLETE. Average loss: 1.0003282070159911\n",
            "Epoch 29/30 STARTED\n"
          ]
        },
        {
          "name": "stderr",
          "output_type": "stream",
          "text": [
            "100%|██████████| 50/50 [00:41<00:00,  1.21it/s]\n"
          ]
        },
        {
          "name": "stdout",
          "output_type": "stream",
          "text": [
            "Epoch COMPLETE. Average loss: 1.0015809082984923\n",
            "Epoch 30/30 STARTED\n"
          ]
        },
        {
          "name": "stderr",
          "output_type": "stream",
          "text": [
            "100%|██████████| 50/50 [00:41<00:00,  1.21it/s]"
          ]
        },
        {
          "name": "stdout",
          "output_type": "stream",
          "text": [
            "Epoch COMPLETE. Average loss: 1.0019100725650787\n",
            "Model training COMPLETE\n"
          ]
        },
        {
          "name": "stderr",
          "output_type": "stream",
          "text": [
            "\n"
          ]
        }
      ],
      "source": [
        "model_full, loss_values_batch = train_model(\n",
        "    model_full, loss_fn, optimizer,\n",
        "    dataloader_full_train, DEVICE, num_epochs_=30\n",
        "    )"
      ]
    },
    {
      "cell_type": "code",
      "execution_count": null,
      "id": "apB2c1LlmsvD",
      "metadata": {
        "colab": {
          "base_uri": "https://localhost:8080/",
          "height": 529
        },
        "id": "apB2c1LlmsvD",
        "outputId": "04f90d95-a0f4-422c-df34-fb01ec835ec0"
      },
      "outputs": [
        {
          "data": {
            "image/png": "[encoded data removed]",
            "text/plain": [
              "<Figure size 800x500 with 1 Axes>"
            ]
          },
          "metadata": {},
          "output_type": "display_data"
        }
      ],
      "source": [
        "loss_plot(loss_values_batch, num_last_epochs_=10, \n",
        "          add_to_title_='Полная обучающая выборка (train + val)')"
      ]
    },
    {
      "attachments": {},
      "cell_type": "markdown",
      "id": "bcItit78j2DF",
      "metadata": {
        "id": "bcItit78j2DF"
      },
      "source": [
        "### Сохранение модели и токензатора"
      ]
    },
    {
      "cell_type": "code",
      "execution_count": null,
      "id": "m-pucJCGe5et",
      "metadata": {
        "colab": {
          "base_uri": "https://localhost:8080/"
        },
        "id": "m-pucJCGe5et",
        "outputId": "e3a7d25c-fa00-4542-9e6f-0b6a62140f8e"
      },
      "outputs": [
        {
          "data": {
            "text/plain": [
              "('tokeniezer/tokenizer_config.json',\n",
              " 'tokeniezer/special_tokens_map.json',\n",
              " 'tokeniezer/vocab.txt',\n",
              " 'tokeniezer/added_tokens.json',\n",
              " 'tokeniezer/tokenizer.json')"
            ]
          },
          "execution_count": 33,
          "metadata": {},
          "output_type": "execute_result"
        }
      ],
      "source": [
        "MODEL_FILE_NAME = 'model.pth'\n",
        "TOKENIZER_DIR_NAME = 'tokeniezer'\n",
        "\n",
        "torch.save(model_full, MODEL_FILE_NAME)\n",
        "tokenizer.save_pretrained(TOKENIZER_DIR_NAME)"
      ]
    },
    {
      "attachments": {},
      "cell_type": "markdown",
      "id": "Ez8HRCxOj546",
      "metadata": {
        "id": "Ez8HRCxOj546"
      },
      "source": [
        "### Загрузка сохраненных модели и токенизатора"
      ]
    },
    {
      "cell_type": "code",
      "execution_count": null,
      "id": "Wrqt_jTRfl7o",
      "metadata": {
        "id": "Wrqt_jTRfl7o"
      },
      "outputs": [],
      "source": [
        "model_loaded = torch.load(MODEL_FILE_NAME)\n",
        "tokenizer_loaded = AutoTokenizer.from_pretrained(TOKENIZER_DIR_NAME)\n",
        "\n",
        "DEVICE_TEST = torch.device('cuda:0' if torch.cuda.is_available() else 'cpu')\n",
        "max_length_test = 160"
      ]
    },
    {
      "attachments": {},
      "cell_type": "markdown",
      "id": "kaZxrZ56Nw3L",
      "metadata": {
        "id": "kaZxrZ56Nw3L"
      },
      "source": [
        "### Проверка модели на тестовой выборке"
      ]
    },
    {
      "cell_type": "code",
      "execution_count": null,
      "id": "QylVpslKkOIE",
      "metadata": {
        "colab": {
          "base_uri": "https://localhost:8080/"
        },
        "id": "QylVpslKkOIE",
        "outputId": "3e36c241-29ba-4bde-aa86-99a51974a26d"
      },
      "outputs": [
        {
          "name": "stdout",
          "output_type": "stream",
          "text": [
            "X test len = 177, type is <class 'pandas.core.series.Series'>\n",
            "y test len = 177, type is <class 'pandas.core.series.Series'>\n"
          ]
        }
      ],
      "source": [
        "# Тестовый набор данных: X_test -> y_test = \n",
        "print(f'X test len = {len(X_test)}, type is {type(X_test)}')\n",
        "print(f'y test len = {len(y_test)}, type is {type(y_test)}')"
      ]
    },
    {
      "cell_type": "code",
      "execution_count": null,
      "id": "SX3TgNmW9Y8Y",
      "metadata": {
        "id": "SX3TgNmW9Y8Y"
      },
      "outputs": [],
      "source": [
        "def series_ptrn_replace(\n",
        "    series_, \n",
        "    ptrn_=r'(\\b[А-ЯЁ]+\\b)|(\\b[а-яё]+[А-ЯЁ]+\\b)|(\\b[а-яё]+[А-ЯЁ]+[а-яё]+\\b)'\n",
        "    ):\n",
        "    '''\n",
        "    series_: pd.Series with texts\n",
        "    ptrn_: regex patter\n",
        "    Text preprocessing. Pattern reduction to lowercase\n",
        "    Default template (Cyrillic only)\n",
        "    ['сЛОВО' | 'cЛОВо' | 'СЛОво' | 'СЛОВО'] -> 'слово'\n",
        "    Но 'Слово' -> 'Слово' (не изменяется)\n",
        "    '''\n",
        "\n",
        "    def lower_(match_): \n",
        "        return str.lower(match_.group())\n",
        "        \n",
        "    if type(series_) is not pd.core.series.Series:\n",
        "        try:\n",
        "            series_ = pd.Series(series_)\n",
        "            print('Преобразовано в pd.Series.')\n",
        "        except:\n",
        "            print('Преобразование в pd.Series не удалось!')\n",
        "            return series_\n",
        "    try:\n",
        "        return_series = series_.str.replace(ptrn_, lower_, regex=True)\n",
        "        print('Обработка завершена успешно.')\n",
        "    except:\n",
        "        print('Замена слов по шаблону не удалась!')\n",
        "        return series_\n",
        "    return return_series"
      ]
    },
    {
      "cell_type": "code",
      "execution_count": null,
      "id": "ngE0Q0-F9Zzs",
      "metadata": {
        "colab": {
          "base_uri": "https://localhost:8080/"
        },
        "id": "ngE0Q0-F9Zzs",
        "outputId": "49bd637f-257b-47c2-e934-c43e3b961ed9"
      },
      "outputs": [
        {
          "name": "stdout",
          "output_type": "stream",
          "text": [
            "Обработка завершена успешно.\n"
          ]
        }
      ],
      "source": [
        "# Предобработка текста: замена РЕГИСТР рЕГИСТР регИстр -> регистр\n",
        "X_test = series_ptrn_replace(X_test)"
      ]
    },
    {
      "cell_type": "code",
      "execution_count": null,
      "id": "RAptaIdsgSR0",
      "metadata": {
        "id": "RAptaIdsgSR0"
      },
      "outputs": [],
      "source": [
        "# Токенизация текстов ТЕСТОВОЙ выборки.\n",
        "\n",
        "X_test_tokens = tokenizer_loaded.batch_encode_plus(\n",
        "    X_test.to_list(),\n",
        "    max_length = max_length_test,\n",
        "    padding = 'max_length',\n",
        "    truncation = True,\n",
        "    add_special_tokens = True, #default\n",
        "    is_split_into_words = False, #default\n",
        ")"
      ]
    },
    {
      "cell_type": "code",
      "execution_count": null,
      "id": "t4PuldStgSVi",
      "metadata": {
        "id": "t4PuldStgSVi"
      },
      "outputs": [],
      "source": [
        "# Размер батча для даталоадера. \n",
        "# Для Google Collab free установить ~ 32..64\n",
        "batch_size = 32\n",
        "\n",
        "# Преобразование таргетов в np.array если не было сделано раньше\n",
        "if type(y_test) is not np.ndarray:\n",
        "    y_test = y_test.astype('int64').to_numpy()\n",
        "\n",
        "# Создание даталоадеров для тестовой выборки\n",
        "dataloader_test = DataLoader(\n",
        "    dataset=TensorDataset(\n",
        "        torch.tensor(X_test_tokens['input_ids']).to(DEVICE_TEST),\n",
        "        torch.tensor(X_test_tokens['attention_mask']).to(DEVICE_TEST),\n",
        "        torch.from_numpy(y_test).to(DEVICE_TEST)\n",
        "        ), batch_size=batch_size, shuffle=False\n",
        "        )"
      ]
    },
    {
      "cell_type": "code",
      "execution_count": null,
      "id": "Ctn8EtqBl7Jp",
      "metadata": {
        "id": "Ctn8EtqBl7Jp"
      },
      "outputs": [],
      "source": [
        "def get_pred(model_, dataloader_):\n",
        "    '''\n",
        "    '''\n",
        "    model_.eval()\n",
        "    y_pred = np.array(0)\n",
        "\n",
        "    with torch.no_grad():\n",
        "        for batch in dataloader_:\n",
        "          X, mask, y = tuple(t.to(DEVICE) for t in batch)\n",
        "          output = model_(X, mask)\n",
        "          y_pred = np.hstack(\n",
        "              [y_pred, torch.argmax(nn.functional.log_softmax(output, dim=1),\n",
        "                                    dim=1).cpu().numpy()]\n",
        "                             )\n",
        "    y_pred = y_pred[1:]\n",
        "\n",
        "    return y_pred"
      ]
    },
    {
      "attachments": {},
      "cell_type": "markdown",
      "id": "oy_RnWR_OWr0",
      "metadata": {
        "id": "oy_RnWR_OWr0"
      },
      "source": [
        "### Результаты проверки"
      ]
    },
    {
      "cell_type": "code",
      "execution_count": null,
      "id": "XfmoACG4mdSA",
      "metadata": {
        "colab": {
          "base_uri": "https://localhost:8080/"
        },
        "id": "XfmoACG4mdSA",
        "outputId": "5be77737-bf60-464c-b9b8-9f75b64d9cec"
      },
      "outputs": [
        {
          "name": "stdout",
          "output_type": "stream",
          "text": [
            "F1 score (macro) on test set = 0.9325752380109585\n"
          ]
        }
      ],
      "source": [
        "test_pred = get_pred(model_loaded, dataloader_test)\n",
        "f1_score_test = f1_score(y_test, test_pred, average='macro')\n",
        "print(f'F1 score (macro) on test set = {f1_score_test}')"
      ]
    },
    {
      "cell_type": "code",
      "execution_count": null,
      "id": "Wpp-Y6kG9t8O",
      "metadata": {
        "colab": {
          "base_uri": "https://localhost:8080/"
        },
        "id": "Wpp-Y6kG9t8O",
        "outputId": "e8c54d11-aac0-49ea-fe57-cca6afcd04dc"
      },
      "outputs": [
        {
          "name": "stdout",
          "output_type": "stream",
          "text": [
            "0       Магазин\n",
            "1      Доставка\n",
            "2      Доставка\n",
            "3      Доставка\n",
            "4         Товар\n",
            "         ...   \n",
            "172    Доставка\n",
            "173       Товар\n",
            "174    Доставка\n",
            "175       Товар\n",
            "176     Магазин\n",
            "Name: class_predicted, Length: 177, dtype: object\n"
          ]
        }
      ],
      "source": [
        "series_to_return = pd.Series(test_pred, name='class_predicted').map(labels_dict) \n",
        "print(series_to_return)"
      ]
    },
    {
      "cell_type": "code",
      "execution_count": null,
      "id": "QErwMKciZ2p7",
      "metadata": {
        "id": "QErwMKciZ2p7"
      },
      "outputs": [],
      "source": [
        "outp_df = pd.DataFrame({'text': X_test,\n",
        "                        'class_true': pd.Series(y_test).map(labels_dict).to_list(),\n",
        "                        'class_labels_true': pd.Series(y_test).to_list(),\n",
        "                        'class_predicted': series_to_return.to_list(),\n",
        "                       })"
      ]
    },
    {
      "cell_type": "code",
      "execution_count": null,
      "id": "XP4fibqNob0A",
      "metadata": {
        "colab": {
          "base_uri": "https://localhost:8080/",
          "height": 645
        },
        "id": "XP4fibqNob0A",
        "outputId": "b90d5f6b-6c1d-4a5e-ba51-c25223b5bfc1"
      },
      "outputs": [
        {
          "data": {
            "text/html": [
              "\n",
              "  <div id=\"df-f167c11a-4afb-4f49-a3b1-da9a6bf659ec\">\n",
              "    <div class=\"colab-df-container\">\n",
              "      <div>\n",
              "<style scoped>\n",
              "    .dataframe tbody tr th:only-of-type {\n",
              "        vertical-align: middle;\n",
              "    }\n",
              "\n",
              "    .dataframe tbody tr th {\n",
              "        vertical-align: top;\n",
              "    }\n",
              "\n",
              "    .dataframe thead th {\n",
              "        text-align: right;\n",
              "    }\n",
              "</style>\n",
              "<table border=\"1\" class=\"dataframe\">\n",
              "  <thead>\n",
              "    <tr style=\"text-align: right;\">\n",
              "      <th></th>\n",
              "      <th>text</th>\n",
              "      <th>class_true</th>\n",
              "      <th>class_labels_true</th>\n",
              "      <th>class_predicted</th>\n",
              "    </tr>\n",
              "  </thead>\n",
              "  <tbody>\n",
              "    <tr>\n",
              "      <th>1418</th>\n",
              "      <td>Не компетентные сотрудники, не знают регламент...</td>\n",
              "      <td>Магазин</td>\n",
              "      <td>1</td>\n",
              "      <td>Магазин</td>\n",
              "    </tr>\n",
              "    <tr>\n",
              "      <th>1488</th>\n",
              "      <td>Курьер не звонил заранее за час, как обычно пр...</td>\n",
              "      <td>Доставка</td>\n",
              "      <td>0</td>\n",
              "      <td>Доставка</td>\n",
              "    </tr>\n",
              "    <tr>\n",
              "      <th>791</th>\n",
              "      <td>мне не выдали заказ без обьяснения причин= зак...</td>\n",
              "      <td>Доставка</td>\n",
              "      <td>0</td>\n",
              "      <td>Доставка</td>\n",
              "    </tr>\n",
              "    <tr>\n",
              "      <th>167</th>\n",
              "      <td>За час не звонили. Пришлось всё бросить и сро...</td>\n",
              "      <td>Доставка</td>\n",
              "      <td>0</td>\n",
              "      <td>Доставка</td>\n",
              "    </tr>\n",
              "    <tr>\n",
              "      <th>1630</th>\n",
              "      <td>в зоне выдачи отсутствуют бесплатные пакеты, д...</td>\n",
              "      <td>Товар</td>\n",
              "      <td>2</td>\n",
              "      <td>Товар</td>\n",
              "    </tr>\n",
              "    <tr>\n",
              "      <th>968</th>\n",
              "      <td>Витринныц образец  Такая красота обошлась в по...</td>\n",
              "      <td>Товар</td>\n",
              "      <td>2</td>\n",
              "      <td>Товар</td>\n",
              "    </tr>\n",
              "    <tr>\n",
              "      <th>1535</th>\n",
              "      <td>1. Дорогая доставка</td>\n",
              "      <td>Доставка</td>\n",
              "      <td>0</td>\n",
              "      <td>Доставка</td>\n",
              "    </tr>\n",
              "    <tr>\n",
              "      <th>830</th>\n",
              "      <td>Сотрудники просто игнорировали меня, при чем я...</td>\n",
              "      <td>Магазин</td>\n",
              "      <td>1</td>\n",
              "      <td>Магазин</td>\n",
              "    </tr>\n",
              "    <tr>\n",
              "      <th>526</th>\n",
              "      <td>почему товар перед доставкой никто не проверя...</td>\n",
              "      <td>Товар</td>\n",
              "      <td>2</td>\n",
              "      <td>Товар</td>\n",
              "    </tr>\n",
              "    <tr>\n",
              "      <th>1067</th>\n",
              "      <td>Привезли только один товар из двух, частично п...</td>\n",
              "      <td>Доставка</td>\n",
              "      <td>0</td>\n",
              "      <td>Доставка</td>\n",
              "    </tr>\n",
              "    <tr>\n",
              "      <th>1425</th>\n",
              "      <td>Получил заказ. решил проверить чайник на испра...</td>\n",
              "      <td>Товар</td>\n",
              "      <td>2</td>\n",
              "      <td>Товар</td>\n",
              "    </tr>\n",
              "    <tr>\n",
              "      <th>1373</th>\n",
              "      <td>Заказала 5 марта 2 кондиционера, доставку пост...</td>\n",
              "      <td>Доставка</td>\n",
              "      <td>0</td>\n",
              "      <td>Доставка</td>\n",
              "    </tr>\n",
              "    <tr>\n",
              "      <th>95</th>\n",
              "      <td>первое, на что обратили внимание-порванная на ...</td>\n",
              "      <td>Товар</td>\n",
              "      <td>2</td>\n",
              "      <td>Товар</td>\n",
              "    </tr>\n",
              "    <tr>\n",
              "      <th>275</th>\n",
              "      <td>Доставка отказалась поднимать холодильник на 1...</td>\n",
              "      <td>Доставка</td>\n",
              "      <td>0</td>\n",
              "      <td>Доставка</td>\n",
              "    </tr>\n",
              "    <tr>\n",
              "      <th>1171</th>\n",
              "      <td>Сам товар нормальный. Но весь пыльный</td>\n",
              "      <td>Товар</td>\n",
              "      <td>2</td>\n",
              "      <td>Товар</td>\n",
              "    </tr>\n",
              "    <tr>\n",
              "      <th>1080</th>\n",
              "      <td>Доставка заняла полторы недели, очень медленно.</td>\n",
              "      <td>Доставка</td>\n",
              "      <td>0</td>\n",
              "      <td>Доставка</td>\n",
              "    </tr>\n",
              "    <tr>\n",
              "      <th>974</th>\n",
              "      <td>Купил у вас сплит-систему Electrolux EACS-12HA...</td>\n",
              "      <td>Товар</td>\n",
              "      <td>2</td>\n",
              "      <td>Товар</td>\n",
              "    </tr>\n",
              "    <tr>\n",
              "      <th>1085</th>\n",
              "      <td>Витринный товар</td>\n",
              "      <td>Товар</td>\n",
              "      <td>2</td>\n",
              "      <td>Товар</td>\n",
              "    </tr>\n",
              "    <tr>\n",
              "      <th>1277</th>\n",
              "      <td>Срочно нужен был телефон для работы. Купила че...</td>\n",
              "      <td>Доставка</td>\n",
              "      <td>0</td>\n",
              "      <td>Товар</td>\n",
              "    </tr>\n",
              "  </tbody>\n",
              "</table>\n",
              "</div>\n",
              "      <button class=\"colab-df-convert\" onclick=\"convertToInteractive('df-f167c11a-4afb-4f49-a3b1-da9a6bf659ec')\"\n",
              "              title=\"Convert this dataframe to an interactive table.\"\n",
              "              style=\"display:none;\">\n",
              "        \n",
              "  <svg xmlns=\"http://www.w3.org/2000/svg\" height=\"24px\"viewBox=\"0 0 24 24\"\n",
              "       width=\"24px\">\n",
              "    <path d=\"M0 0h24v24H0V0z\" fill=\"none\"/>\n",
              "    <path d=\"M18.56 5.44l.94 2.06.94-2.06 2.06-.94-2.06-.94-.94-2.06-.94 2.06-2.06.94zm-11 1L8.5 8.5l.94-2.06 2.06-.94-2.06-.94L8.5 2.5l-.94 2.06-2.06.94zm10 10l.94 2.06.94-2.06 2.06-.94-2.06-.94-.94-2.06-.94 2.06-2.06.94z\"/><path d=\"M17.41 7.96l-1.37-1.37c-.4-.4-.92-.59-1.43-.59-.52 0-1.04.2-1.43.59L10.3 9.45l-7.72 7.72c-.78.78-.78 2.05 0 2.83L4 21.41c.39.39.9.59 1.41.59.51 0 1.02-.2 1.41-.59l7.78-7.78 2.81-2.81c.8-.78.8-2.07 0-2.86zM5.41 20L4 18.59l7.72-7.72 1.47 1.35L5.41 20z\"/>\n",
              "  </svg>\n",
              "      </button>\n",
              "      \n",
              "  <style>\n",
              "    .colab-df-container {\n",
              "      display:flex;\n",
              "      flex-wrap:wrap;\n",
              "      gap: 12px;\n",
              "    }\n",
              "\n",
              "    .colab-df-convert {\n",
              "      background-color: #E8F0FE;\n",
              "      border: none;\n",
              "      border-radius: 50%;\n",
              "      cursor: pointer;\n",
              "      display: none;\n",
              "      fill: #1967D2;\n",
              "      height: 32px;\n",
              "      padding: 0 0 0 0;\n",
              "      width: 32px;\n",
              "    }\n",
              "\n",
              "    .colab-df-convert:hover {\n",
              "      background-color: #E2EBFA;\n",
              "      box-shadow: 0px 1px 2px rgba(60, 64, 67, 0.3), 0px 1px 3px 1px rgba(60, 64, 67, 0.15);\n",
              "      fill: #174EA6;\n",
              "    }\n",
              "\n",
              "    [theme=dark] .colab-df-convert {\n",
              "      background-color: #3B4455;\n",
              "      fill: #D2E3FC;\n",
              "    }\n",
              "\n",
              "    [theme=dark] .colab-df-convert:hover {\n",
              "      background-color: #434B5C;\n",
              "      box-shadow: 0px 1px 3px 1px rgba(0, 0, 0, 0.15);\n",
              "      filter: drop-shadow(0px 1px 2px rgba(0, 0, 0, 0.3));\n",
              "      fill: #FFFFFF;\n",
              "    }\n",
              "  </style>\n",
              "\n",
              "      <script>\n",
              "        const buttonEl =\n",
              "          document.querySelector('#df-f167c11a-4afb-4f49-a3b1-da9a6bf659ec button.colab-df-convert');\n",
              "        buttonEl.style.display =\n",
              "          google.colab.kernel.accessAllowed ? 'block' : 'none';\n",
              "\n",
              "        async function convertToInteractive(key) {\n",
              "          const element = document.querySelector('#df-f167c11a-4afb-4f49-a3b1-da9a6bf659ec');\n",
              "          const dataTable =\n",
              "            await google.colab.kernel.invokeFunction('convertToInteractive',\n",
              "                                                     [key], {});\n",
              "          if (!dataTable) return;\n",
              "\n",
              "          const docLinkHtml = 'Like what you see? Visit the ' +\n",
              "            '<a target=\"_blank\" href=https://colab.research.google.com/notebooks/data_table.ipynb>data table notebook</a>'\n",
              "            + ' to learn more about interactive tables.';\n",
              "          element.innerHTML = '';\n",
              "          dataTable['output_type'] = 'display_data';\n",
              "          await google.colab.output.renderOutput(dataTable, element);\n",
              "          const docLink = document.createElement('div');\n",
              "          docLink.innerHTML = docLinkHtml;\n",
              "          element.appendChild(docLink);\n",
              "        }\n",
              "      </script>\n",
              "    </div>\n",
              "  </div>\n",
              "  "
            ],
            "text/plain": [
              "                                                   text class_true  \\\n",
              "1418  Не компетентные сотрудники, не знают регламент...    Магазин   \n",
              "1488  Курьер не звонил заранее за час, как обычно пр...   Доставка   \n",
              "791   мне не выдали заказ без обьяснения причин= зак...   Доставка   \n",
              "167    За час не звонили. Пришлось всё бросить и сро...   Доставка   \n",
              "1630  в зоне выдачи отсутствуют бесплатные пакеты, д...      Товар   \n",
              "968   Витринныц образец  Такая красота обошлась в по...      Товар   \n",
              "1535                              1. Дорогая доставка     Доставка   \n",
              "830   Сотрудники просто игнорировали меня, при чем я...    Магазин   \n",
              "526    почему товар перед доставкой никто не проверя...      Товар   \n",
              "1067  Привезли только один товар из двух, частично п...   Доставка   \n",
              "1425  Получил заказ. решил проверить чайник на испра...      Товар   \n",
              "1373  Заказала 5 марта 2 кондиционера, доставку пост...   Доставка   \n",
              "95    первое, на что обратили внимание-порванная на ...      Товар   \n",
              "275   Доставка отказалась поднимать холодильник на 1...   Доставка   \n",
              "1171             Сам товар нормальный. Но весь пыльный       Товар   \n",
              "1080    Доставка заняла полторы недели, очень медленно.   Доставка   \n",
              "974   Купил у вас сплит-систему Electrolux EACS-12HA...      Товар   \n",
              "1085                                    Витринный товар      Товар   \n",
              "1277  Срочно нужен был телефон для работы. Купила че...   Доставка   \n",
              "\n",
              "      class_labels_true class_predicted  \n",
              "1418                  1         Магазин  \n",
              "1488                  0        Доставка  \n",
              "791                   0        Доставка  \n",
              "167                   0        Доставка  \n",
              "1630                  2           Товар  \n",
              "968                   2           Товар  \n",
              "1535                  0        Доставка  \n",
              "830                   1         Магазин  \n",
              "526                   2           Товар  \n",
              "1067                  0        Доставка  \n",
              "1425                  2           Товар  \n",
              "1373                  0        Доставка  \n",
              "95                    2           Товар  \n",
              "275                   0        Доставка  \n",
              "1171                  2           Товар  \n",
              "1080                  0        Доставка  \n",
              "974                   2           Товар  \n",
              "1085                  2           Товар  \n",
              "1277                  0           Товар  "
            ]
          },
          "execution_count": 44,
          "metadata": {},
          "output_type": "execute_result"
        }
      ],
      "source": [
        "outp_df.head(19)"
      ]
    },
    {
      "attachments": {},
      "cell_type": "markdown",
      "id": "LdICn75HOvq2",
      "metadata": {
        "id": "LdICn75HOvq2"
      },
      "source": [
        "### Добавление NER меток"
      ]
    },
    {
      "attachments": {},
      "cell_type": "markdown",
      "id": "C5IHvPBfdAJd",
      "metadata": {
        "id": "C5IHvPBfdAJd"
      },
      "source": [
        "#### Подготовка образца с отзывами для предсказания классов и простановки меток NER"
      ]
    },
    {
      "cell_type": "code",
      "execution_count": null,
      "id": "UnabrH0JZ70e",
      "metadata": {
        "colab": {
          "base_uri": "https://localhost:8080/"
        },
        "id": "UnabrH0JZ70e",
        "outputId": "4e6a0379-6009-4de8-cd85-c74dda801b59"
      },
      "outputs": [
        {
          "name": "stdout",
          "output_type": "stream",
          "text": [
            "Обработка завершена успешно.\n"
          ]
        }
      ],
      "source": [
        "sample_ner = data[220:280]\n",
        "X_ner = sample_ner['text']\n",
        "X_ner = series_ptrn_replace(X_ner)\n",
        "y_ner = sample_ner['class_labels']"
      ]
    },
    {
      "cell_type": "code",
      "execution_count": null,
      "id": "MzvYk570Z7-B",
      "metadata": {
        "id": "MzvYk570Z7-B"
      },
      "outputs": [],
      "source": [
        "X_ner_tokens = tokenizer_loaded.batch_encode_plus(\n",
        "    X_ner.to_list(),\n",
        "    max_length = 160,\n",
        "    padding = 'max_length',\n",
        "    truncation = True,\n",
        "    add_special_tokens = True, #default\n",
        "    is_split_into_words = False, #default\n",
        ")"
      ]
    },
    {
      "cell_type": "code",
      "execution_count": null,
      "id": "ZZSz63xbbKN-",
      "metadata": {
        "id": "ZZSz63xbbKN-"
      },
      "outputs": [],
      "source": [
        "# Размер батча для даталоадера.\n",
        "# Для Google Collab free установить ~ 32..64\n",
        "batch_size = 32\n",
        "\n",
        "# Преобразование таргетов в np.array если не было сделано раньше\n",
        "if type(y_ner) is not np.ndarray:\n",
        "    y_ner = y_ner.astype('int64').to_numpy()\n",
        "\n",
        "# Создание даталоадеров для тестовой выборки\n",
        "dataloader_ner = DataLoader(\n",
        "    dataset=TensorDataset(\n",
        "        torch.tensor(X_ner_tokens['input_ids']).to(DEVICE_TEST),\n",
        "        torch.tensor(X_ner_tokens['attention_mask']).to(DEVICE_TEST),\n",
        "        torch.from_numpy(y_ner).to(DEVICE_TEST)\n",
        "        ), batch_size=batch_size, shuffle=False\n",
        "        )\n",
        "\n",
        "test_ner = get_pred(model_loaded, dataloader_ner)"
      ]
    },
    {
      "cell_type": "code",
      "execution_count": null,
      "id": "vBNhc8CMbbxL",
      "metadata": {
        "colab": {
          "base_uri": "https://localhost:8080/"
        },
        "id": "vBNhc8CMbbxL",
        "outputId": "aa238a64-8d88-4816-e315-411682f8292d"
      },
      "outputs": [
        {
          "name": "stderr",
          "output_type": "stream",
          "text": [
            "<ipython-input-48-da92cb4289d6>:2: SettingWithCopyWarning: \n",
            "A value is trying to be set on a copy of a slice from a DataFrame.\n",
            "Try using .loc[row_indexer,col_indexer] = value instead\n",
            "\n",
            "See the caveats in the documentation: https://pandas.pydata.org/pandas-docs/stable/user_guide/indexing.html#returning-a-view-versus-a-copy\n",
            "  sample_ner['class_predicted'] = series_ner.to_list()\n"
          ]
        }
      ],
      "source": [
        "series_ner = pd.Series(test_ner, name='class_predicted').map(labels_dict) \n",
        "sample_ner['class_predicted'] = series_ner.to_list()"
      ]
    },
    {
      "attachments": {},
      "cell_type": "markdown",
      "id": "eEPp_FKmdasV",
      "metadata": {
        "id": "eEPp_FKmdasV"
      },
      "source": [
        "#### Загрузка предобученной модели DeepPavlov ner_rus_bert_probas"
      ]
    },
    {
      "cell_type": "code",
      "execution_count": null,
      "id": "DdArDI_lUIPa",
      "metadata": {
        "id": "DdArDI_lUIPa"
      },
      "outputs": [],
      "source": [
        "!pip install -q deeppavlov"
      ]
    },
    {
      "cell_type": "code",
      "execution_count": null,
      "id": "fgjtu1mZTQA0",
      "metadata": {
        "colab": {
          "base_uri": "https://localhost:8080/"
        },
        "id": "fgjtu1mZTQA0",
        "outputId": "cead225a-2238-4f20-854c-54536b79dcf0"
      },
      "outputs": [
        {
          "name": "stdout",
          "output_type": "stream",
          "text": [
            "Looking in indexes: https://pypi.org/simple, https://us-python.pkg.dev/colab-wheels/public/simple/\n",
            "Requirement already satisfied: torch<1.14.0,>=1.6.0 in /usr/local/lib/python3.9/dist-packages (1.13.1)\n",
            "Requirement already satisfied: nvidia-cuda-runtime-cu11==11.7.99 in /usr/local/lib/python3.9/dist-packages (from torch<1.14.0,>=1.6.0) (11.7.99)\n",
            "Requirement already satisfied: typing-extensions in /usr/local/lib/python3.9/dist-packages (from torch<1.14.0,>=1.6.0) (4.5.0)\n",
            "Requirement already satisfied: nvidia-cuda-nvrtc-cu11==11.7.99 in /usr/local/lib/python3.9/dist-packages (from torch<1.14.0,>=1.6.0) (11.7.99)\n",
            "Requirement already satisfied: nvidia-cublas-cu11==11.10.3.66 in /usr/local/lib/python3.9/dist-packages (from torch<1.14.0,>=1.6.0) (11.10.3.66)\n",
            "Requirement already satisfied: nvidia-cudnn-cu11==8.5.0.96 in /usr/local/lib/python3.9/dist-packages (from torch<1.14.0,>=1.6.0) (8.5.0.96)\n",
            "Requirement already satisfied: wheel in /usr/local/lib/python3.9/dist-packages (from nvidia-cublas-cu11==11.10.3.66->torch<1.14.0,>=1.6.0) (0.40.0)\n",
            "Requirement already satisfied: setuptools in /usr/local/lib/python3.9/dist-packages (from nvidia-cublas-cu11==11.10.3.66->torch<1.14.0,>=1.6.0) (67.6.1)\n",
            "Looking in indexes: https://pypi.org/simple, https://us-python.pkg.dev/colab-wheels/public/simple/\n",
            "Requirement already satisfied: transformers<4.25.0,>=4.13.0 in /usr/local/lib/python3.9/dist-packages (4.24.0)\n",
            "Requirement already satisfied: numpy>=1.17 in /usr/local/lib/python3.9/dist-packages (from transformers<4.25.0,>=4.13.0) (1.22.4)\n",
            "Requirement already satisfied: filelock in /usr/local/lib/python3.9/dist-packages (from transformers<4.25.0,>=4.13.0) (3.9.1)\n",
            "Requirement already satisfied: tqdm>=4.27 in /usr/local/lib/python3.9/dist-packages (from transformers<4.25.0,>=4.13.0) (4.64.1)\n",
            "Requirement already satisfied: huggingface-hub<1.0,>=0.10.0 in /usr/local/lib/python3.9/dist-packages (from transformers<4.25.0,>=4.13.0) (0.13.3)\n",
            "Requirement already satisfied: requests in /usr/local/lib/python3.9/dist-packages (from transformers<4.25.0,>=4.13.0) (2.27.1)\n",
            "Requirement already satisfied: packaging>=20.0 in /usr/local/lib/python3.9/dist-packages (from transformers<4.25.0,>=4.13.0) (23.0)\n",
            "Requirement already satisfied: pyyaml>=5.1 in /usr/local/lib/python3.9/dist-packages (from transformers<4.25.0,>=4.13.0) (6.0)\n",
            "Requirement already satisfied: regex!=2019.12.17 in /usr/local/lib/python3.9/dist-packages (from transformers<4.25.0,>=4.13.0) (2022.10.31)\n",
            "Requirement already satisfied: tokenizers!=0.11.3,<0.14,>=0.11.1 in /usr/local/lib/python3.9/dist-packages (from transformers<4.25.0,>=4.13.0) (0.13.2)\n",
            "Requirement already satisfied: typing-extensions>=3.7.4.3 in /usr/local/lib/python3.9/dist-packages (from huggingface-hub<1.0,>=0.10.0->transformers<4.25.0,>=4.13.0) (4.5.0)\n",
            "Requirement already satisfied: certifi>=2017.4.17 in /usr/local/lib/python3.9/dist-packages (from requests->transformers<4.25.0,>=4.13.0) (2022.12.7)\n",
            "Requirement already satisfied: urllib3<1.27,>=1.21.1 in /usr/local/lib/python3.9/dist-packages (from requests->transformers<4.25.0,>=4.13.0) (1.26.15)\n",
            "Requirement already satisfied: idna<4,>=2.5 in /usr/local/lib/python3.9/dist-packages (from requests->transformers<4.25.0,>=4.13.0) (3.4)\n",
            "Requirement already satisfied: charset-normalizer~=2.0.0 in /usr/local/lib/python3.9/dist-packages (from requests->transformers<4.25.0,>=4.13.0) (2.0.12)\n",
            "Looking in indexes: https://pypi.org/simple, https://us-python.pkg.dev/colab-wheels/public/simple/\n",
            "Requirement already satisfied: pytorch-crf==0.7.* in /usr/local/lib/python3.9/dist-packages (0.7.2)\n"
          ]
        }
      ],
      "source": [
        "!python -m deeppavlov install ner_rus_bert_probas"
      ]
    },
    {
      "cell_type": "code",
      "execution_count": null,
      "id": "FyTa6sJlUUyp",
      "metadata": {
        "id": "FyTa6sJlUUyp"
      },
      "outputs": [],
      "source": [
        "from deeppavlov import configs, build_model"
      ]
    },
    {
      "cell_type": "code",
      "execution_count": null,
      "id": "0jFrAdpgTeHE",
      "metadata": {
        "colab": {
          "base_uri": "https://localhost:8080/"
        },
        "id": "0jFrAdpgTeHE",
        "outputId": "d79a54aa-c400-43ea-d85b-bdb2a80a983a"
      },
      "outputs": [
        {
          "name": "stderr",
          "output_type": "stream",
          "text": [
            "2023-04-05 00:51:50.657 INFO in 'deeppavlov.download'['download'] at line 138: Skipped http://files.deeppavlov.ai/deeppavlov_data/rus_dream_entity_detection/wiki_ner_rus_bert.tar.gz download because of matching hashes\n",
            "INFO:deeppavlov.download:Skipped http://files.deeppavlov.ai/deeppavlov_data/rus_dream_entity_detection/wiki_ner_rus_bert.tar.gz download because of matching hashes\n",
            "2023-04-05 00:51:53.215 INFO in 'deeppavlov.download'['download'] at line 138: Skipped http://files.deeppavlov.ai/datasets/wiki_ner_rus/wiki_ner_rus_dataset.tar.gz download because of matching hashes\n",
            "INFO:deeppavlov.download:Skipped http://files.deeppavlov.ai/datasets/wiki_ner_rus/wiki_ner_rus_dataset.tar.gz download because of matching hashes\n",
            "Some weights of the model checkpoint at DeepPavlov/rubert-base-cased were not used when initializing BertForTokenClassification: ['cls.predictions.decoder.bias', 'cls.predictions.transform.dense.weight', 'cls.predictions.bias', 'cls.seq_relationship.weight', 'cls.predictions.transform.LayerNorm.weight', 'cls.predictions.transform.dense.bias', 'cls.predictions.transform.LayerNorm.bias', 'cls.predictions.decoder.weight', 'cls.seq_relationship.bias']\n",
            "- This IS expected if you are initializing BertForTokenClassification from the checkpoint of a model trained on another task or with another architecture (e.g. initializing a BertForSequenceClassification model from a BertForPreTraining model).\n",
            "- This IS NOT expected if you are initializing BertForTokenClassification from the checkpoint of a model that you expect to be exactly identical (initializing a BertForSequenceClassification model from a BertForSequenceClassification model).\n",
            "Some weights of BertForTokenClassification were not initialized from the model checkpoint at DeepPavlov/rubert-base-cased and are newly initialized: ['classifier.weight', 'classifier.bias']\n",
            "You should probably TRAIN this model on a down-stream task to be able to use it for predictions and inference.\n"
          ]
        }
      ],
      "source": [
        "config_path = configs.ner.ner_rus_bert_probas\n",
        "configs.ner.ner_rus_bert_probas\n",
        "\n",
        "ner_wiki = build_model(config_path, download=True)"
      ]
    },
    {
      "attachments": {},
      "cell_type": "markdown",
      "id": "A1Rkr6PpduoX",
      "metadata": {
        "id": "A1Rkr6PpduoX"
      },
      "source": [
        "### Простановка меток NER на образце"
      ]
    },
    {
      "cell_type": "code",
      "execution_count": null,
      "id": "CT6-JRTePuuO",
      "metadata": {
        "id": "CT6-JRTePuuO"
      },
      "outputs": [],
      "source": [
        "def add_ner_labels(series_, text_column_='text', model_ner_=ner_wiki):\n",
        "    '''\n",
        "    series_: pd.Series at least one of the elements must contain text\n",
        "    text_column_: name of index of element that containing text\n",
        "    model_ner_: DeepPavlov TorchTransformersNerPreprocessor\n",
        "    The function creates a string with recognized entities\n",
        "    using the DeepPavlov model\n",
        "    Returns: str, like 'word[ner_label] word[ner_label]'\n",
        "    '''\n",
        "    output = model_ner_([series_[text_column_]])\n",
        "    out_str = ''\n",
        "    for tok, tag in zip(output[0][0], output[2][0]):\n",
        "        if tag != 'O':\n",
        "            out_str += f'{tok}[{tag}] '\n",
        "    return out_str"
      ]
    },
    {
      "cell_type": "code",
      "execution_count": null,
      "id": "MpQtfkaPSpAM",
      "metadata": {
        "colab": {
          "base_uri": "https://localhost:8080/"
        },
        "id": "MpQtfkaPSpAM",
        "outputId": "31d4f3ab-cdf3-4e7e-cec6-08cbcb40c712"
      },
      "outputs": [
        {
          "name": "stderr",
          "output_type": "stream",
          "text": [
            "<ipython-input-54-305e0cdf1c07>:1: SettingWithCopyWarning: \n",
            "A value is trying to be set on a copy of a slice from a DataFrame.\n",
            "Try using .loc[row_indexer,col_indexer] = value instead\n",
            "\n",
            "See the caveats in the documentation: https://pandas.pydata.org/pandas-docs/stable/user_guide/indexing.html#returning-a-view-versus-a-copy\n",
            "  sample_ner['NER'] = sample_ner.apply(add_ner_labels, axis=1, result_type='reduce', args = ('text', ner_wiki))\n"
          ]
        }
      ],
      "source": [
        "sample_ner['NER'] = sample_ner.apply(add_ner_labels, axis=1, result_type='reduce', args = ('text', ner_wiki))"
      ]
    },
    {
      "cell_type": "code",
      "execution_count": null,
      "id": "-dWUROA0NmiC",
      "metadata": {
        "colab": {
          "base_uri": "https://localhost:8080/",
          "height": 1000
        },
        "id": "-dWUROA0NmiC",
        "outputId": "2177a150-c9dd-44c2-963c-fcc7e9880a3d"
      },
      "outputs": [
        {
          "data": {
            "text/html": [
              "\n",
              "  <div id=\"df-989929aa-4ef1-4aa2-8b72-0373efa7dbf6\">\n",
              "    <div class=\"colab-df-container\">\n",
              "      <div>\n",
              "<style scoped>\n",
              "    .dataframe tbody tr th:only-of-type {\n",
              "        vertical-align: middle;\n",
              "    }\n",
              "\n",
              "    .dataframe tbody tr th {\n",
              "        vertical-align: top;\n",
              "    }\n",
              "\n",
              "    .dataframe thead th {\n",
              "        text-align: right;\n",
              "    }\n",
              "</style>\n",
              "<table border=\"1\" class=\"dataframe\">\n",
              "  <thead>\n",
              "    <tr style=\"text-align: right;\">\n",
              "      <th></th>\n",
              "      <th>text</th>\n",
              "      <th>class</th>\n",
              "      <th>class_labels</th>\n",
              "      <th>class_predicted</th>\n",
              "      <th>NER</th>\n",
              "    </tr>\n",
              "  </thead>\n",
              "  <tbody>\n",
              "    <tr>\n",
              "      <th>220</th>\n",
              "      <td>Добрый день. В комментарии для курьера специал...</td>\n",
              "      <td>Доставка</td>\n",
              "      <td>0</td>\n",
              "      <td>Доставка</td>\n",
              "      <td></td>\n",
              "    </tr>\n",
              "    <tr>\n",
              "      <th>221</th>\n",
              "      <td>продали неаккуратно вскрытую упаковку!!  покуп...</td>\n",
              "      <td>Товар</td>\n",
              "      <td>2</td>\n",
              "      <td>Товар</td>\n",
              "      <td></td>\n",
              "    </tr>\n",
              "    <tr>\n",
              "      <th>222</th>\n",
              "      <td>Доставка и пункт выдачи оставляют желать лучшего</td>\n",
              "      <td>Доставка</td>\n",
              "      <td>0</td>\n",
              "      <td>Доставка</td>\n",
              "      <td></td>\n",
              "    </tr>\n",
              "    <tr>\n",
              "      <th>223</th>\n",
              "      <td>Очень долгое ожидание выдачи заказа</td>\n",
              "      <td>Доставка</td>\n",
              "      <td>0</td>\n",
              "      <td>Доставка</td>\n",
              "      <td></td>\n",
              "    </tr>\n",
              "    <tr>\n",
              "      <th>224</th>\n",
              "      <td>при заказе не было уточнено что товар с витрин...</td>\n",
              "      <td>Товар</td>\n",
              "      <td>2</td>\n",
              "      <td>Товар</td>\n",
              "      <td></td>\n",
              "    </tr>\n",
              "    <tr>\n",
              "      <th>225</th>\n",
              "      <td>Заказал с курьерской доставкой сказали что при...</td>\n",
              "      <td>Доставка</td>\n",
              "      <td>0</td>\n",
              "      <td>Доставка</td>\n",
              "      <td></td>\n",
              "    </tr>\n",
              "    <tr>\n",
              "      <th>226</th>\n",
              "      <td>И больше выбор товаров!</td>\n",
              "      <td>Товар</td>\n",
              "      <td>2</td>\n",
              "      <td>Товар</td>\n",
              "      <td></td>\n",
              "    </tr>\n",
              "    <tr>\n",
              "      <th>227</th>\n",
              "      <td>Видимо магазин новый, немного неотлаженно рабо...</td>\n",
              "      <td>Доставка</td>\n",
              "      <td>0</td>\n",
              "      <td>Доставка</td>\n",
              "      <td></td>\n",
              "    </tr>\n",
              "    <tr>\n",
              "      <th>228</th>\n",
              "      <td>Заказ отменил, курьер не дал проверить товар и...</td>\n",
              "      <td>Доставка</td>\n",
              "      <td>0</td>\n",
              "      <td>Доставка</td>\n",
              "      <td></td>\n",
              "    </tr>\n",
              "    <tr>\n",
              "      <th>229</th>\n",
              "      <td>Почему курьер не позвонил перед выездом? В ито...</td>\n",
              "      <td>Доставка</td>\n",
              "      <td>0</td>\n",
              "      <td>Доставка</td>\n",
              "      <td></td>\n",
              "    </tr>\n",
              "    <tr>\n",
              "      <th>230</th>\n",
              "      <td>После вскрытия упаковки обнаружилось,что слома...</td>\n",
              "      <td>Товар</td>\n",
              "      <td>2</td>\n",
              "      <td>Товар</td>\n",
              "      <td></td>\n",
              "    </tr>\n",
              "    <tr>\n",
              "      <th>231</th>\n",
              "      <td>Заказывала доставку, но пришлось забирать само...</td>\n",
              "      <td>Доставка</td>\n",
              "      <td>0</td>\n",
              "      <td>Доставка</td>\n",
              "      <td></td>\n",
              "    </tr>\n",
              "    <tr>\n",
              "      <th>232</th>\n",
              "      <td>В доставку входит подъем на этаж(даже без лифта).</td>\n",
              "      <td>Доставка</td>\n",
              "      <td>0</td>\n",
              "      <td>Доставка</td>\n",
              "      <td>лифта[B-PRODUCT]</td>\n",
              "    </tr>\n",
              "    <tr>\n",
              "      <th>233</th>\n",
              "      <td>Некомплект. HDMI кабеля нет, батареек в пульт ...</td>\n",
              "      <td>Товар</td>\n",
              "      <td>2</td>\n",
              "      <td>Товар</td>\n",
              "      <td></td>\n",
              "    </tr>\n",
              "    <tr>\n",
              "      <th>234</th>\n",
              "      <td>Не тот кондиционер и не за ту сумму, которую о...</td>\n",
              "      <td>Доставка</td>\n",
              "      <td>0</td>\n",
              "      <td>Доставка</td>\n",
              "      <td>кондиционер[B-PRODUCT]</td>\n",
              "    </tr>\n",
              "    <tr>\n",
              "      <th>235</th>\n",
              "      <td>договорились,что заберу на лиговском проспекте...</td>\n",
              "      <td>Товар</td>\n",
              "      <td>2</td>\n",
              "      <td>Товар</td>\n",
              "      <td>лиговском[B-LOC]</td>\n",
              "    </tr>\n",
              "    <tr>\n",
              "      <th>236</th>\n",
              "      <td>Я осталась недовольна работой сотрудников мага...</td>\n",
              "      <td>Доставка</td>\n",
              "      <td>0</td>\n",
              "      <td>Доставка</td>\n",
              "      <td>М[B-PRODUCT] .[I-PRODUCT] видео[I-PRODUCT] Сев...</td>\n",
              "    </tr>\n",
              "    <tr>\n",
              "      <th>237</th>\n",
              "      <td>Прождали целый день, товар не привезли. Только...</td>\n",
              "      <td>Доставка</td>\n",
              "      <td>0</td>\n",
              "      <td>Доставка</td>\n",
              "      <td></td>\n",
              "    </tr>\n",
              "    <tr>\n",
              "      <th>238</th>\n",
              "      <td>О том, что товар с витрины, сайт сообщил толь...</td>\n",
              "      <td>Товар</td>\n",
              "      <td>2</td>\n",
              "      <td>Товар</td>\n",
              "      <td></td>\n",
              "    </tr>\n",
              "    <tr>\n",
              "      <th>239</th>\n",
              "      <td>Необходимо более бережнее относиться к товару ...</td>\n",
              "      <td>Товар</td>\n",
              "      <td>2</td>\n",
              "      <td>Товар</td>\n",
              "      <td></td>\n",
              "    </tr>\n",
              "    <tr>\n",
              "      <th>240</th>\n",
              "      <td>Товар не готов выдаче, но числится в магазине....</td>\n",
              "      <td>Доставка</td>\n",
              "      <td>0</td>\n",
              "      <td>Доставка</td>\n",
              "      <td></td>\n",
              "    </tr>\n",
              "    <tr>\n",
              "      <th>241</th>\n",
              "      <td>Продавцы не подходят, а избегают, умеют только...</td>\n",
              "      <td>Магазин</td>\n",
              "      <td>1</td>\n",
              "      <td>Товар</td>\n",
              "      <td></td>\n",
              "    </tr>\n",
              "    <tr>\n",
              "      <th>242</th>\n",
              "      <td>Когда сами ставили на место оказалось что покр...</td>\n",
              "      <td>Товар</td>\n",
              "      <td>2</td>\n",
              "      <td>Товар</td>\n",
              "      <td>холодильнике[B-PRODUCT]</td>\n",
              "    </tr>\n",
              "    <tr>\n",
              "      <th>243</th>\n",
              "      <td>Расстроил тот факт, что больше 30 минут прожд...</td>\n",
              "      <td>Доставка</td>\n",
              "      <td>0</td>\n",
              "      <td>Доставка</td>\n",
              "      <td></td>\n",
              "    </tr>\n",
              "    <tr>\n",
              "      <th>244</th>\n",
              "      <td>Почему то один из заказов Ваш магазин предложи...</td>\n",
              "      <td>Доставка</td>\n",
              "      <td>0</td>\n",
              "      <td>Доставка</td>\n",
              "      <td></td>\n",
              "    </tr>\n",
              "    <tr>\n",
              "      <th>245</th>\n",
              "      <td>товар был взят с витрины, хотя меня об этом не...</td>\n",
              "      <td>Товар</td>\n",
              "      <td>2</td>\n",
              "      <td>Товар</td>\n",
              "      <td></td>\n",
              "    </tr>\n",
              "    <tr>\n",
              "      <th>246</th>\n",
              "      <td>На глянцевой поверхности чайника были явно вид...</td>\n",
              "      <td>Товар</td>\n",
              "      <td>2</td>\n",
              "      <td>Товар</td>\n",
              "      <td>чайника[B-PRODUCT]</td>\n",
              "    </tr>\n",
              "    <tr>\n",
              "      <th>247</th>\n",
              "      <td>Заказ отменен без моего ведома.</td>\n",
              "      <td>Доставка</td>\n",
              "      <td>0</td>\n",
              "      <td>Доставка</td>\n",
              "      <td></td>\n",
              "    </tr>\n",
              "    <tr>\n",
              "      <th>248</th>\n",
              "      <td>Огорчило фамильярное и даже хамское поведение ...</td>\n",
              "      <td>Магазин</td>\n",
              "      <td>1</td>\n",
              "      <td>Магазин</td>\n",
              "      <td></td>\n",
              "    </tr>\n",
              "    <tr>\n",
              "      <th>249</th>\n",
              "      <td>Я заказала доставку курьеров в течение 2 часов...</td>\n",
              "      <td>Доставка</td>\n",
              "      <td>0</td>\n",
              "      <td>Доставка</td>\n",
              "      <td></td>\n",
              "    </tr>\n",
              "    <tr>\n",
              "      <th>250</th>\n",
              "      <td>Неприятный хамский персонал и охранники</td>\n",
              "      <td>Магазин</td>\n",
              "      <td>1</td>\n",
              "      <td>Магазин</td>\n",
              "      <td></td>\n",
              "    </tr>\n",
              "    <tr>\n",
              "      <th>251</th>\n",
              "      <td>Необходимо уточнять, что товар некомплектный: ...</td>\n",
              "      <td>Товар</td>\n",
              "      <td>2</td>\n",
              "      <td>Товар</td>\n",
              "      <td></td>\n",
              "    </tr>\n",
              "    <tr>\n",
              "      <th>252</th>\n",
              "      <td>Доставили не тот товар</td>\n",
              "      <td>Доставка</td>\n",
              "      <td>0</td>\n",
              "      <td>Доставка</td>\n",
              "      <td></td>\n",
              "    </tr>\n",
              "    <tr>\n",
              "      <th>253</th>\n",
              "      <td>Долгое ожидание в зоне выдачи заказов. И так у...</td>\n",
              "      <td>Доставка</td>\n",
              "      <td>0</td>\n",
              "      <td>Доставка</td>\n",
              "      <td></td>\n",
              "    </tr>\n",
              "    <tr>\n",
              "      <th>254</th>\n",
              "      <td>Заказ везли почти месяц с вечными переносами</td>\n",
              "      <td>Доставка</td>\n",
              "      <td>0</td>\n",
              "      <td>Доставка</td>\n",
              "      <td></td>\n",
              "    </tr>\n",
              "    <tr>\n",
              "      <th>255</th>\n",
              "      <td>В магазине полный хаос, консультантов нет, пол...</td>\n",
              "      <td>Магазин</td>\n",
              "      <td>1</td>\n",
              "      <td>Магазин</td>\n",
              "      <td></td>\n",
              "    </tr>\n",
              "    <tr>\n",
              "      <th>256</th>\n",
              "      <td>Главное в заказе - ноутбук, но он был с витрин...</td>\n",
              "      <td>Товар</td>\n",
              "      <td>2</td>\n",
              "      <td>Товар</td>\n",
              "      <td></td>\n",
              "    </tr>\n",
              "    <tr>\n",
              "      <th>257</th>\n",
              "      <td>Витринный образец, да ещё и без коробки не мож...</td>\n",
              "      <td>Товар</td>\n",
              "      <td>2</td>\n",
              "      <td>Товар</td>\n",
              "      <td></td>\n",
              "    </tr>\n",
              "    <tr>\n",
              "      <th>258</th>\n",
              "      <td>Стоял возле кассы 5 минут. Продавец занималась...</td>\n",
              "      <td>Магазин</td>\n",
              "      <td>1</td>\n",
              "      <td>Магазин</td>\n",
              "      <td></td>\n",
              "    </tr>\n",
              "    <tr>\n",
              "      <th>259</th>\n",
              "      <td>Несколько раз переносили мне доставку, не в ук...</td>\n",
              "      <td>Доставка</td>\n",
              "      <td>0</td>\n",
              "      <td>Доставка</td>\n",
              "      <td></td>\n",
              "    </tr>\n",
              "    <tr>\n",
              "      <th>260</th>\n",
              "      <td>Сотрудники заняты своими делами и им плевать н...</td>\n",
              "      <td>Магазин</td>\n",
              "      <td>1</td>\n",
              "      <td>Товар</td>\n",
              "      <td></td>\n",
              "    </tr>\n",
              "    <tr>\n",
              "      <th>261</th>\n",
              "      <td>Коробка грязная, пыльная, потрёпанная. Утюг ве...</td>\n",
              "      <td>Товар</td>\n",
              "      <td>2</td>\n",
              "      <td>Товар</td>\n",
              "      <td>Утюг[B-PRODUCT]</td>\n",
              "    </tr>\n",
              "    <tr>\n",
              "      <th>262</th>\n",
              "      <td>Микроволновку привезли с браком. При открытие ...</td>\n",
              "      <td>Товар</td>\n",
              "      <td>2</td>\n",
              "      <td>Товар</td>\n",
              "      <td></td>\n",
              "    </tr>\n",
              "    <tr>\n",
              "      <th>263</th>\n",
              "      <td>Продавец подсунул в чек какую-то электронную п...</td>\n",
              "      <td>Магазин</td>\n",
              "      <td>1</td>\n",
              "      <td>Магазин</td>\n",
              "      <td></td>\n",
              "    </tr>\n",
              "    <tr>\n",
              "      <th>264</th>\n",
              "      <td>Я заказал бритву, в итоге ее не оказалось в на...</td>\n",
              "      <td>Доставка</td>\n",
              "      <td>0</td>\n",
              "      <td>Доставка</td>\n",
              "      <td>бритву[B-PRODUCT]</td>\n",
              "    </tr>\n",
              "    <tr>\n",
              "      <th>265</th>\n",
              "      <td>Сотрудники напевают песенки, кучей смотрели н...</td>\n",
              "      <td>Магазин</td>\n",
              "      <td>1</td>\n",
              "      <td>Магазин</td>\n",
              "      <td></td>\n",
              "    </tr>\n",
              "    <tr>\n",
              "      <th>266</th>\n",
              "      <td>Ужасный сервис. Сотрудник хамло. Смеётся в лиц...</td>\n",
              "      <td>Магазин</td>\n",
              "      <td>1</td>\n",
              "      <td>Магазин</td>\n",
              "      <td>Иванов[B-PER] Дмитрий[I-PER] Владимирович[I-PER]</td>\n",
              "    </tr>\n",
              "    <tr>\n",
              "      <th>267</th>\n",
              "      <td>Если коротко. Вы просто меня развели на деньги...</td>\n",
              "      <td>Магазин</td>\n",
              "      <td>1</td>\n",
              "      <td>Товар</td>\n",
              "      <td>КиноПоиск[B-ORG]</td>\n",
              "    </tr>\n",
              "    <tr>\n",
              "      <th>268</th>\n",
              "      <td>Хоть бы пакет давали</td>\n",
              "      <td>Товар</td>\n",
              "      <td>2</td>\n",
              "      <td>Товар</td>\n",
              "      <td></td>\n",
              "    </tr>\n",
              "    <tr>\n",
              "      <th>269</th>\n",
              "      <td>Телевизор не проверили</td>\n",
              "      <td>Товар</td>\n",
              "      <td>2</td>\n",
              "      <td>Товар</td>\n",
              "      <td></td>\n",
              "    </tr>\n",
              "    <tr>\n",
              "      <th>270</th>\n",
              "      <td>Маленькое количество персонала</td>\n",
              "      <td>Магазин</td>\n",
              "      <td>1</td>\n",
              "      <td>Магазин</td>\n",
              "      <td></td>\n",
              "    </tr>\n",
              "    <tr>\n",
              "      <th>271</th>\n",
              "      <td>Звоню на следующий день и мне сообщают, что то...</td>\n",
              "      <td>Доставка</td>\n",
              "      <td>0</td>\n",
              "      <td>Доставка</td>\n",
              "      <td></td>\n",
              "    </tr>\n",
              "    <tr>\n",
              "      <th>272</th>\n",
              "      <td>Неужели при доставке 2 рюкзаков нельзя их было...</td>\n",
              "      <td>Товар</td>\n",
              "      <td>2</td>\n",
              "      <td>Товар</td>\n",
              "      <td>рюкзаков[B-PRODUCT]</td>\n",
              "    </tr>\n",
              "    <tr>\n",
              "      <th>273</th>\n",
              "      <td>Очень плохая подготовка продавцов, отношение п...</td>\n",
              "      <td>Магазин</td>\n",
              "      <td>1</td>\n",
              "      <td>Товар</td>\n",
              "      <td></td>\n",
              "    </tr>\n",
              "    <tr>\n",
              "      <th>274</th>\n",
              "      <td>Маленький срок хранения заказа и продлить хран...</td>\n",
              "      <td>Доставка</td>\n",
              "      <td>0</td>\n",
              "      <td>Доставка</td>\n",
              "      <td></td>\n",
              "    </tr>\n",
              "    <tr>\n",
              "      <th>275</th>\n",
              "      <td>Доставка отказалась поднимать холодильник на 1...</td>\n",
              "      <td>Доставка</td>\n",
              "      <td>0</td>\n",
              "      <td>Доставка</td>\n",
              "      <td>холодильник[B-PRODUCT] холодильник[B-PRODUCT]</td>\n",
              "    </tr>\n",
              "    <tr>\n",
              "      <th>276</th>\n",
              "      <td>некомплектный товар</td>\n",
              "      <td>Товар</td>\n",
              "      <td>2</td>\n",
              "      <td>Товар</td>\n",
              "      <td></td>\n",
              "    </tr>\n",
              "    <tr>\n",
              "      <th>277</th>\n",
              "      <td>Холодильник на самом деле не чёрный а серый! ...</td>\n",
              "      <td>Товар</td>\n",
              "      <td>2</td>\n",
              "      <td>Товар</td>\n",
              "      <td>Холодильник[B-PRODUCT]</td>\n",
              "    </tr>\n",
              "    <tr>\n",
              "      <th>278</th>\n",
              "      <td>Заказ курьер до квартиры не доставил. Пришлось...</td>\n",
              "      <td>Доставка</td>\n",
              "      <td>0</td>\n",
              "      <td>Доставка</td>\n",
              "      <td></td>\n",
              "    </tr>\n",
              "    <tr>\n",
              "      <th>279</th>\n",
              "      <td>На выдаче не проверили комплектность товара</td>\n",
              "      <td>Товар</td>\n",
              "      <td>2</td>\n",
              "      <td>Товар</td>\n",
              "      <td></td>\n",
              "    </tr>\n",
              "  </tbody>\n",
              "</table>\n",
              "</div>\n",
              "      <button class=\"colab-df-convert\" onclick=\"convertToInteractive('df-989929aa-4ef1-4aa2-8b72-0373efa7dbf6')\"\n",
              "              title=\"Convert this dataframe to an interactive table.\"\n",
              "              style=\"display:none;\">\n",
              "        \n",
              "  <svg xmlns=\"http://www.w3.org/2000/svg\" height=\"24px\"viewBox=\"0 0 24 24\"\n",
              "       width=\"24px\">\n",
              "    <path d=\"M0 0h24v24H0V0z\" fill=\"none\"/>\n",
              "    <path d=\"M18.56 5.44l.94 2.06.94-2.06 2.06-.94-2.06-.94-.94-2.06-.94 2.06-2.06.94zm-11 1L8.5 8.5l.94-2.06 2.06-.94-2.06-.94L8.5 2.5l-.94 2.06-2.06.94zm10 10l.94 2.06.94-2.06 2.06-.94-2.06-.94-.94-2.06-.94 2.06-2.06.94z\"/><path d=\"M17.41 7.96l-1.37-1.37c-.4-.4-.92-.59-1.43-.59-.52 0-1.04.2-1.43.59L10.3 9.45l-7.72 7.72c-.78.78-.78 2.05 0 2.83L4 21.41c.39.39.9.59 1.41.59.51 0 1.02-.2 1.41-.59l7.78-7.78 2.81-2.81c.8-.78.8-2.07 0-2.86zM5.41 20L4 18.59l7.72-7.72 1.47 1.35L5.41 20z\"/>\n",
              "  </svg>\n",
              "      </button>\n",
              "      \n",
              "  <style>\n",
              "    .colab-df-container {\n",
              "      display:flex;\n",
              "      flex-wrap:wrap;\n",
              "      gap: 12px;\n",
              "    }\n",
              "\n",
              "    .colab-df-convert {\n",
              "      background-color: #E8F0FE;\n",
              "      border: none;\n",
              "      border-radius: 50%;\n",
              "      cursor: pointer;\n",
              "      display: none;\n",
              "      fill: #1967D2;\n",
              "      height: 32px;\n",
              "      padding: 0 0 0 0;\n",
              "      width: 32px;\n",
              "    }\n",
              "\n",
              "    .colab-df-convert:hover {\n",
              "      background-color: #E2EBFA;\n",
              "      box-shadow: 0px 1px 2px rgba(60, 64, 67, 0.3), 0px 1px 3px 1px rgba(60, 64, 67, 0.15);\n",
              "      fill: #174EA6;\n",
              "    }\n",
              "\n",
              "    [theme=dark] .colab-df-convert {\n",
              "      background-color: #3B4455;\n",
              "      fill: #D2E3FC;\n",
              "    }\n",
              "\n",
              "    [theme=dark] .colab-df-convert:hover {\n",
              "      background-color: #434B5C;\n",
              "      box-shadow: 0px 1px 3px 1px rgba(0, 0, 0, 0.15);\n",
              "      filter: drop-shadow(0px 1px 2px rgba(0, 0, 0, 0.3));\n",
              "      fill: #FFFFFF;\n",
              "    }\n",
              "  </style>\n",
              "\n",
              "      <script>\n",
              "        const buttonEl =\n",
              "          document.querySelector('#df-989929aa-4ef1-4aa2-8b72-0373efa7dbf6 button.colab-df-convert');\n",
              "        buttonEl.style.display =\n",
              "          google.colab.kernel.accessAllowed ? 'block' : 'none';\n",
              "\n",
              "        async function convertToInteractive(key) {\n",
              "          const element = document.querySelector('#df-989929aa-4ef1-4aa2-8b72-0373efa7dbf6');\n",
              "          const dataTable =\n",
              "            await google.colab.kernel.invokeFunction('convertToInteractive',\n",
              "                                                     [key], {});\n",
              "          if (!dataTable) return;\n",
              "\n",
              "          const docLinkHtml = 'Like what you see? Visit the ' +\n",
              "            '<a target=\"_blank\" href=https://colab.research.google.com/notebooks/data_table.ipynb>data table notebook</a>'\n",
              "            + ' to learn more about interactive tables.';\n",
              "          element.innerHTML = '';\n",
              "          dataTable['output_type'] = 'display_data';\n",
              "          await google.colab.output.renderOutput(dataTable, element);\n",
              "          const docLink = document.createElement('div');\n",
              "          docLink.innerHTML = docLinkHtml;\n",
              "          element.appendChild(docLink);\n",
              "        }\n",
              "      </script>\n",
              "    </div>\n",
              "  </div>\n",
              "  "
            ],
            "text/plain": [
              "                                                  text     class  \\\n",
              "220  Добрый день. В комментарии для курьера специал...  Доставка   \n",
              "221  продали неаккуратно вскрытую упаковку!!  покуп...     Товар   \n",
              "222   Доставка и пункт выдачи оставляют желать лучшего  Доставка   \n",
              "223                Очень долгое ожидание выдачи заказа  Доставка   \n",
              "224  при заказе не было уточнено что товар с витрин...     Товар   \n",
              "225  Заказал с курьерской доставкой сказали что при...  Доставка   \n",
              "226                            И больше выбор товаров!     Товар   \n",
              "227  Видимо магазин новый, немного неотлаженно рабо...  Доставка   \n",
              "228  Заказ отменил, курьер не дал проверить товар и...  Доставка   \n",
              "229  Почему курьер не позвонил перед выездом? В ито...  Доставка   \n",
              "230  После вскрытия упаковки обнаружилось,что слома...     Товар   \n",
              "231  Заказывала доставку, но пришлось забирать само...  Доставка   \n",
              "232  В доставку входит подъем на этаж(даже без лифта).  Доставка   \n",
              "233  Некомплект. HDMI кабеля нет, батареек в пульт ...     Товар   \n",
              "234  Не тот кондиционер и не за ту сумму, которую о...  Доставка   \n",
              "235  договорились,что заберу на лиговском проспекте...     Товар   \n",
              "236  Я осталась недовольна работой сотрудников мага...  Доставка   \n",
              "237  Прождали целый день, товар не привезли. Только...  Доставка   \n",
              "238   О том, что товар с витрины, сайт сообщил толь...     Товар   \n",
              "239  Необходимо более бережнее относиться к товару ...     Товар   \n",
              "240  Товар не готов выдаче, но числится в магазине....  Доставка   \n",
              "241  Продавцы не подходят, а избегают, умеют только...   Магазин   \n",
              "242  Когда сами ставили на место оказалось что покр...     Товар   \n",
              "243   Расстроил тот факт, что больше 30 минут прожд...  Доставка   \n",
              "244  Почему то один из заказов Ваш магазин предложи...  Доставка   \n",
              "245  товар был взят с витрины, хотя меня об этом не...     Товар   \n",
              "246  На глянцевой поверхности чайника были явно вид...     Товар   \n",
              "247                    Заказ отменен без моего ведома.  Доставка   \n",
              "248  Огорчило фамильярное и даже хамское поведение ...   Магазин   \n",
              "249  Я заказала доставку курьеров в течение 2 часов...  Доставка   \n",
              "250            Неприятный хамский персонал и охранники   Магазин   \n",
              "251  Необходимо уточнять, что товар некомплектный: ...     Товар   \n",
              "252                             Доставили не тот товар  Доставка   \n",
              "253  Долгое ожидание в зоне выдачи заказов. И так у...  Доставка   \n",
              "254       Заказ везли почти месяц с вечными переносами  Доставка   \n",
              "255  В магазине полный хаос, консультантов нет, пол...   Магазин   \n",
              "256  Главное в заказе - ноутбук, но он был с витрин...     Товар   \n",
              "257  Витринный образец, да ещё и без коробки не мож...     Товар   \n",
              "258  Стоял возле кассы 5 минут. Продавец занималась...   Магазин   \n",
              "259  Несколько раз переносили мне доставку, не в ук...  Доставка   \n",
              "260  Сотрудники заняты своими делами и им плевать н...   Магазин   \n",
              "261  Коробка грязная, пыльная, потрёпанная. Утюг ве...     Товар   \n",
              "262  Микроволновку привезли с браком. При открытие ...     Товар   \n",
              "263  Продавец подсунул в чек какую-то электронную п...   Магазин   \n",
              "264  Я заказал бритву, в итоге ее не оказалось в на...  Доставка   \n",
              "265   Сотрудники напевают песенки, кучей смотрели н...   Магазин   \n",
              "266  Ужасный сервис. Сотрудник хамло. Смеётся в лиц...   Магазин   \n",
              "267  Если коротко. Вы просто меня развели на деньги...   Магазин   \n",
              "268                               Хоть бы пакет давали     Товар   \n",
              "269                             Телевизор не проверили     Товар   \n",
              "270                     Маленькое количество персонала   Магазин   \n",
              "271  Звоню на следующий день и мне сообщают, что то...  Доставка   \n",
              "272  Неужели при доставке 2 рюкзаков нельзя их было...     Товар   \n",
              "273  Очень плохая подготовка продавцов, отношение п...   Магазин   \n",
              "274  Маленький срок хранения заказа и продлить хран...  Доставка   \n",
              "275  Доставка отказалась поднимать холодильник на 1...  Доставка   \n",
              "276                                некомплектный товар     Товар   \n",
              "277   Холодильник на самом деле не чёрный а серый! ...     Товар   \n",
              "278  Заказ курьер до квартиры не доставил. Пришлось...  Доставка   \n",
              "279        На выдаче не проверили комплектность товара     Товар   \n",
              "\n",
              "     class_labels class_predicted  \\\n",
              "220             0        Доставка   \n",
              "221             2           Товар   \n",
              "222             0        Доставка   \n",
              "223             0        Доставка   \n",
              "224             2           Товар   \n",
              "225             0        Доставка   \n",
              "226             2           Товар   \n",
              "227             0        Доставка   \n",
              "228             0        Доставка   \n",
              "229             0        Доставка   \n",
              "230             2           Товар   \n",
              "231             0        Доставка   \n",
              "232             0        Доставка   \n",
              "233             2           Товар   \n",
              "234             0        Доставка   \n",
              "235             2           Товар   \n",
              "236             0        Доставка   \n",
              "237             0        Доставка   \n",
              "238             2           Товар   \n",
              "239             2           Товар   \n",
              "240             0        Доставка   \n",
              "241             1           Товар   \n",
              "242             2           Товар   \n",
              "243             0        Доставка   \n",
              "244             0        Доставка   \n",
              "245             2           Товар   \n",
              "246             2           Товар   \n",
              "247             0        Доставка   \n",
              "248             1         Магазин   \n",
              "249             0        Доставка   \n",
              "250             1         Магазин   \n",
              "251             2           Товар   \n",
              "252             0        Доставка   \n",
              "253             0        Доставка   \n",
              "254             0        Доставка   \n",
              "255             1         Магазин   \n",
              "256             2           Товар   \n",
              "257             2           Товар   \n",
              "258             1         Магазин   \n",
              "259             0        Доставка   \n",
              "260             1           Товар   \n",
              "261             2           Товар   \n",
              "262             2           Товар   \n",
              "263             1         Магазин   \n",
              "264             0        Доставка   \n",
              "265             1         Магазин   \n",
              "266             1         Магазин   \n",
              "267             1           Товар   \n",
              "268             2           Товар   \n",
              "269             2           Товар   \n",
              "270             1         Магазин   \n",
              "271             0        Доставка   \n",
              "272             2           Товар   \n",
              "273             1           Товар   \n",
              "274             0        Доставка   \n",
              "275             0        Доставка   \n",
              "276             2           Товар   \n",
              "277             2           Товар   \n",
              "278             0        Доставка   \n",
              "279             2           Товар   \n",
              "\n",
              "                                                   NER  \n",
              "220                                                     \n",
              "221                                                     \n",
              "222                                                     \n",
              "223                                                     \n",
              "224                                                     \n",
              "225                                                     \n",
              "226                                                     \n",
              "227                                                     \n",
              "228                                                     \n",
              "229                                                     \n",
              "230                                                     \n",
              "231                                                     \n",
              "232                                  лифта[B-PRODUCT]   \n",
              "233                                                     \n",
              "234                            кондиционер[B-PRODUCT]   \n",
              "235                                  лиговском[B-LOC]   \n",
              "236  М[B-PRODUCT] .[I-PRODUCT] видео[I-PRODUCT] Сев...  \n",
              "237                                                     \n",
              "238                                                     \n",
              "239                                                     \n",
              "240                                                     \n",
              "241                                                     \n",
              "242                           холодильнике[B-PRODUCT]   \n",
              "243                                                     \n",
              "244                                                     \n",
              "245                                                     \n",
              "246                                чайника[B-PRODUCT]   \n",
              "247                                                     \n",
              "248                                                     \n",
              "249                                                     \n",
              "250                                                     \n",
              "251                                                     \n",
              "252                                                     \n",
              "253                                                     \n",
              "254                                                     \n",
              "255                                                     \n",
              "256                                                     \n",
              "257                                                     \n",
              "258                                                     \n",
              "259                                                     \n",
              "260                                                     \n",
              "261                                   Утюг[B-PRODUCT]   \n",
              "262                                                     \n",
              "263                                                     \n",
              "264                                 бритву[B-PRODUCT]   \n",
              "265                                                     \n",
              "266  Иванов[B-PER] Дмитрий[I-PER] Владимирович[I-PER]   \n",
              "267                                  КиноПоиск[B-ORG]   \n",
              "268                                                     \n",
              "269                                                     \n",
              "270                                                     \n",
              "271                                                     \n",
              "272                               рюкзаков[B-PRODUCT]   \n",
              "273                                                     \n",
              "274                                                     \n",
              "275     холодильник[B-PRODUCT] холодильник[B-PRODUCT]   \n",
              "276                                                     \n",
              "277                            Холодильник[B-PRODUCT]   \n",
              "278                                                     \n",
              "279                                                     "
            ]
          },
          "execution_count": 55,
          "metadata": {},
          "output_type": "execute_result"
        }
      ],
      "source": [
        "sample_ner"
      ]
    }
  ],
  "metadata": {
    "accelerator": "GPU",
    "colab": {
      "gpuType": "T4",
      "provenance": []
    },
    "gpuClass": "standard",
    "kernelspec": {
      "display_name": "Python 3 (ipykernel)",
      "language": "python",
      "name": "python3"
    },
    "language_info": {
      "codemirror_mode": {
        "name": "ipython",
        "version": 3
      },
      "file_extension": ".py",
      "mimetype": "text/x-python",
      "name": "python",
      "nbconvert_exporter": "python",
      "pygments_lexer": "ipython3",
      "version": "3.9.16"
    },
    "toc": {
      "base_numbering": 1,
      "nav_menu": {},
      "number_sections": true,
      "sideBar": true,
      "skip_h1_title": true,
      "title_cell": "Table of Contents",
      "title_sidebar": "Contents",
      "toc_cell": true,
      "toc_position": {},
      "toc_section_display": true,
      "toc_window_display": false
    }
  },
  "nbformat": 4,
  "nbformat_minor": 5
}
